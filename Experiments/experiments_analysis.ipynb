{
 "cells": [
  {
   "cell_type": "markdown",
   "metadata": {},
   "source": [
    "# Analysis of experiments\n",
    "## Homophily network\n",
    "### Gradual introduction of True Price products"
   ]
  },
  {
   "cell_type": "code",
   "execution_count": 1,
   "metadata": {},
   "outputs": [
    {
     "name": "stderr",
     "output_type": "stream",
     "text": [
      "/var/folders/53/cl5y6r2x7n5_942j6h59yyh00000gn/T/ipykernel_6592/2217476338.py:3: DeprecationWarning: \n",
      "Pyarrow will become a required dependency of pandas in the next major release of pandas (pandas 3.0),\n",
      "(to allow more performant data types, such as the Arrow string type, and better interoperability with other libraries)\n",
      "but was not found to be installed on your system.\n",
      "If this would cause problems for you,\n",
      "please provide us feedback at https://github.com/pandas-dev/pandas/issues/54466\n",
      "        \n",
      "  import pandas as pd\n"
     ]
    }
   ],
   "source": [
    "import numpy as np\n",
    "import pandas as pd\n",
    "import seaborn as sns\n",
    "import networkx as nx\n",
    "import cProfile\n",
    "import pstats\n",
    "import mesa\n",
    "pd.set_option('display.max_colwidth', 10000)\n",
    "import joblib\n",
    "import matplotlib.pyplot as plt\n",
    "from collections import Counter\n",
    "from tqdm import tqdm\n",
    "from SALib.sample import saltelli\n",
    "from SALib.analyze import sobol\n",
    "from SALib.test_functions import Ishigami\n"
   ]
  },
  {
   "cell_type": "code",
   "execution_count": 2,
   "metadata": {},
   "outputs": [],
   "source": [
    "from experiments_model_copy import ConsumatModel"
   ]
  },
  {
   "cell_type": "code",
   "execution_count": 3,
   "metadata": {},
   "outputs": [],
   "source": [
    "\n",
    "base_config = {\n",
    "    'TP_percentage': 0.5,\n",
    "    'tp_introduction_rate': 0.1,\n",
    "    'satisfaction_threshold': 0.5,\n",
    "    'uncertainty_threshold': 0.5,\n",
    "    'product_price_range': (5, 10),\n",
    "    'min_increase_percentage': 4,\n",
    "    'max_increase_percentage': 10,\n",
    "    'num_products': 20,\n",
    "    'inflation_rate': 3,\n",
    "    'epsilon': 0.5,\n",
    "    'comparison_attributes': ['budget'],\n",
    "    'seed': 42,  \n",
    "    'alpha': 10.0,  \n",
    "    'beta': 0.5,  \n",
    "    'homophily_attribute': 'budget'  \n",
    "}\n",
    "\n",
    "\n",
    "# Configuration for Watts-Strogatz network\n",
    "watts_strogatz_config = base_config.copy()\n",
    "watts_strogatz_config.update({\n",
    "    'network_type': 'watts_strogatz',\n",
    "    'network_params': {\n",
    "        'n': 1600,\n",
    "        'k': 8,\n",
    "        'p': 0.3\n",
    "    }\n",
    "})\n",
    "\n",
    "\n",
    "# Configuration for Barabasi-Albert network\n",
    "barabasi_albert_config = base_config.copy()\n",
    "barabasi_albert_config.update({\n",
    "    'network_type': 'barabasi_albert',\n",
    "    'network_params': {\n",
    "        'n': 1600,\n",
    "        'm': 8\n",
    "    }\n",
    "})\n",
    "\n",
    "# Configuration for Random Regular network\n",
    "random_regular_config = base_config.copy()\n",
    "random_regular_config.update({\n",
    "    'network_type': 'random_regular',\n",
    "    'network_params': {\n",
    "        'n': 1600,\n",
    "        'd': 8\n",
    "    }\n",
    "})\n",
    "\n",
    "# Configuration for Holme-Kim network\n",
    "holme_kim_config = base_config.copy()\n",
    "holme_kim_config.update({\n",
    "    'network_type': 'holme_kim',\n",
    "    'network_params': {\n",
    "        'n': 1600,\n",
    "        'm': 8,\n",
    "        'p': 0.3\n",
    "    }\n",
    "})\n"
   ]
  },
  {
   "cell_type": "markdown",
   "metadata": {},
   "source": [
    "## Network topology\n",
    "\n",
    "### Watts-Strogatz Network\n",
    "- **Type:** Small-world network\n",
    "- **Known For:** High clustering coefficient and short average path lengths, which mimic many real-world social networks.\n",
    "- **Formation:** Starts with a ring of `n` nodes each connected to `k` nearest neighbors. Rewires each edge with probability `p` to a randomly chosen node.\n",
    "- **Key Parameters:**\n",
    "  - `n`: Number of nodes\n",
    "  - `k`: Number of nearest neighbors in the initial ring topology\n",
    "  - `p`: Probability of rewiring each edge\n",
    "\n",
    "### Barabasi-Albert Network\n",
    "- **Type:** Scale-free network\n",
    "- **Known For:** Its degree distribution follows a power law, which is typical for many large networks such as the internet, citation networks, and some social networks.\n",
    "- **Formation:** Begins with a small number of nodes and adds new nodes one at a time. Each new node is connected to `k` existing nodes with a probability that depends on the number of links that the existing nodes already have.\n",
    "- **Key Parameters:**\n",
    "  - `n`: Total number of nodes\n",
    "  - `m`: Number of edges to attach from a new node to existing nodes\n",
    "\n",
    "### Random Regular Network\n",
    "- **Type:** Regular graph\n",
    "- **Known For:** Every node has the same number of connections. This uniformity can represent idealized conditions in network modeling.\n",
    "- **Formation:** Constructed by connecting each node with `d` neighbors chosen at random, ensuring each has the same degree, while avoiding self-loops and duplicate edges.\n",
    "- **Key Parameters:**\n",
    "  - `n`: Total number of nodes\n",
    "  - `d`: Degree of each node\n",
    "\n",
    "### Holme-Kim Network\n",
    "- **Type:** Small-world network with scale-free properties\n",
    "- **Known For:** Combines high clustering and short path lengths (like Watts-Strogatz) with a degree distribution that follows a power law (like Barabasi-Albert).\n",
    "- **Formation:** Starts like the Barabasi-Albert model by adding one node at a time, connecting to `m` existing nodes based on their degree. After each edge creation, with probability `p` adds an additional edge forming a triangle.\n",
    "- **Key Parameters:**\n",
    "  - `n`: Total number of nodes\n",
    "  - `m`: Number of edges each new node will attempt to make\n",
    "  - `p`: Triad formation probability\n",
    "\n"
   ]
  },
  {
   "cell_type": "code",
   "execution_count": 4,
   "metadata": {},
   "outputs": [
    {
     "name": "stdout",
     "output_type": "stream",
     "text": [
      "Running simulations for Watts-Strogatz network...\n"
     ]
    },
    {
     "name": "stderr",
     "output_type": "stream",
     "text": [
      "Simulation Progress: 100%|██████████| 10/10 [00:32<00:00,  3.27s/it]\n"
     ]
    },
    {
     "data": {
      "image/png": "[encoded data removed]",
      "text/plain": [
       "<Figure size 1000x600 with 1 Axes>"
      ]
     },
     "metadata": {},
     "output_type": "display_data"
    },
    {
     "name": "stdout",
     "output_type": "stream",
     "text": [
      "Running simulations for Barabasi-Albert network...\n"
     ]
    },
    {
     "name": "stderr",
     "output_type": "stream",
     "text": [
      "Simulation Progress: 100%|██████████| 10/10 [00:33<00:00,  3.31s/it]\n"
     ]
    },
    {
     "data": {
      "image/png": "[encoded data removed]",
      "text/plain": [
       "<Figure size 1000x600 with 1 Axes>"
      ]
     },
     "metadata": {},
     "output_type": "display_data"
    },
    {
     "name": "stdout",
     "output_type": "stream",
     "text": [
      "Running simulations for Random Regular network...\n"
     ]
    },
    {
     "name": "stderr",
     "output_type": "stream",
     "text": [
      "Simulation Progress: 100%|██████████| 10/10 [00:29<00:00,  2.91s/it]\n"
     ]
    },
    {
     "data": {
      "image/png": "[encoded data removed]",
      "text/plain": [
       "<Figure size 1000x600 with 1 Axes>"
      ]
     },
     "metadata": {},
     "output_type": "display_data"
    },
    {
     "name": "stdout",
     "output_type": "stream",
     "text": [
      "Running simulations for Holme-Kim network...\n"
     ]
    },
    {
     "name": "stderr",
     "output_type": "stream",
     "text": [
      "Simulation Progress: 100%|██████████| 10/10 [00:32<00:00,  3.30s/it]\n"
     ]
    },
    {
     "data": {
      "image/png": "[encoded data removed]",
      "text/plain": [
       "<Figure size 1000x600 with 1 Axes>"
      ]
     },
     "metadata": {},
     "output_type": "display_data"
    }
   ],
   "source": [
    "def run_simulation(model, num_steps):\n",
    "    adoption_rates = []\n",
    "\n",
    "    for _ in tqdm(range(num_steps), desc='Simulation Progress'):\n",
    "        model.step()\n",
    "        current_adoption_rate = model.calculate_true_price_adoption_rate()\n",
    "        adoption_rates.append(current_adoption_rate)\n",
    "\n",
    "    model_data = model.datacollector.get_model_vars_dataframe()\n",
    "    agent_data = model.datacollector.get_agent_vars_dataframe()\n",
    "    model_data['Adoption Rates'] = adoption_rates\n",
    "\n",
    "    return model_data, agent_data\n",
    "\n",
    "def run_all_simulations(configurations, num_steps, num_simulations):\n",
    "    results = {}\n",
    "    for config_name, config in configurations.items():\n",
    "        print(f\"Running simulations for {config_name} network...\")\n",
    "\n",
    "        all_simulation_data = []\n",
    "        \n",
    "        for simulation in range(num_simulations):\n",
    "            # Initialize the model with the current configuration\n",
    "            model = ConsumatModel(config)\n",
    "            \n",
    "            model_data, agent_data = run_simulation(model, num_steps)\n",
    "            all_simulation_data.append(model_data)\n",
    "\n",
    "        aggregated_data = pd.concat(all_simulation_data).groupby(level=0).mean()\n",
    "\n",
    "        results[config_name] = aggregated_data\n",
    "\n",
    "        plt.figure(figsize=(10, 6))\n",
    "        for sim_data in all_simulation_data:\n",
    "            plt.plot(sim_data['Adoption Rates'], alpha=0.3)  \n",
    "        plt.plot(aggregated_data['Adoption Rates'], marker='o', color='b', label='Average')\n",
    "        plt.title(f'True Price Adoption Rate Over Iterations for {config_name}')\n",
    "        plt.xlabel('Iteration')\n",
    "        plt.ylim(0,100)\n",
    "        plt.ylabel('True Price Adoption Rate (%)')\n",
    "        plt.grid(True)\n",
    "        plt.legend()\n",
    "        plt.show()\n",
    "\n",
    "    return results\n",
    "\n",
    "def generate_decision_modes_count(agent_data):\n",
    "    decision_modes_count = agent_data.groupby(['Step'])[['Repeat', 'Imitate', 'Deliberate', 'Social_Compare']].sum()\n",
    "    return decision_modes_count\n",
    "\n",
    "network_configurations = {\n",
    "    'Watts-Strogatz': watts_strogatz_config,\n",
    "    'Barabasi-Albert': barabasi_albert_config,\n",
    "    'Random Regular': random_regular_config,\n",
    "    'Holme-Kim': holme_kim_config\n",
    "}\n",
    "\n",
    "num_simulations = 1\n",
    "num_steps = 10\n",
    "\n",
    "results = run_all_simulations(network_configurations, num_steps, num_simulations)\n",
    "\n"
   ]
  },
  {
   "cell_type": "markdown",
   "metadata": {},
   "source": [
    "### Multiple runs of the same model:"
   ]
  },
  {
   "cell_type": "code",
   "execution_count": 8,
   "metadata": {},
   "outputs": [
    {
     "name": "stdout",
     "output_type": "stream",
     "text": [
      "Running simulations for Watts-Strogatz network...\n"
     ]
    },
    {
     "name": "stderr",
     "output_type": "stream",
     "text": [
      "Simulation Progress:  38%|███▊      | 3/8 [00:09<00:15,  3.19s/it]"
     ]
    },
    {
     "name": "stdout",
     "output_type": "stream",
     "text": [
      "Time step 3: 2 True Price products available.\n"
     ]
    },
    {
     "name": "stderr",
     "output_type": "stream",
     "text": [
      "Simulation Progress:  50%|█████     | 4/8 [00:12<00:12,  3.19s/it]"
     ]
    },
    {
     "name": "stdout",
     "output_type": "stream",
     "text": [
      "Time step 4: 4 True Price products available.\n"
     ]
    },
    {
     "name": "stderr",
     "output_type": "stream",
     "text": [
      "Simulation Progress:  62%|██████▎   | 5/8 [00:15<00:09,  3.18s/it]"
     ]
    },
    {
     "name": "stdout",
     "output_type": "stream",
     "text": [
      "Time step 5: 6 True Price products available.\n"
     ]
    },
    {
     "name": "stderr",
     "output_type": "stream",
     "text": [
      "Simulation Progress:  75%|███████▌  | 6/8 [00:19<00:06,  3.18s/it]"
     ]
    },
    {
     "name": "stdout",
     "output_type": "stream",
     "text": [
      "Time step 6: 8 True Price products available.\n"
     ]
    },
    {
     "name": "stderr",
     "output_type": "stream",
     "text": [
      "Simulation Progress:  88%|████████▊ | 7/8 [00:22<00:03,  3.18s/it]"
     ]
    },
    {
     "name": "stdout",
     "output_type": "stream",
     "text": [
      "Time step 7: 10 True Price products available.\n"
     ]
    },
    {
     "name": "stderr",
     "output_type": "stream",
     "text": [
      "Simulation Progress: 100%|██████████| 8/8 [00:25<00:00,  3.18s/it]\n",
      "Simulation Progress:  38%|███▊      | 3/8 [00:09<00:16,  3.20s/it]"
     ]
    },
    {
     "name": "stdout",
     "output_type": "stream",
     "text": [
      "Time step 3: 2 True Price products available.\n"
     ]
    },
    {
     "name": "stderr",
     "output_type": "stream",
     "text": [
      "Simulation Progress:  50%|█████     | 4/8 [00:12<00:12,  3.20s/it]"
     ]
    },
    {
     "name": "stdout",
     "output_type": "stream",
     "text": [
      "Time step 4: 4 True Price products available.\n"
     ]
    },
    {
     "name": "stderr",
     "output_type": "stream",
     "text": [
      "Simulation Progress:  62%|██████▎   | 5/8 [00:16<00:09,  3.23s/it]"
     ]
    },
    {
     "name": "stdout",
     "output_type": "stream",
     "text": [
      "Time step 5: 6 True Price products available.\n"
     ]
    },
    {
     "name": "stderr",
     "output_type": "stream",
     "text": [
      "Simulation Progress:  75%|███████▌  | 6/8 [00:19<00:06,  3.31s/it]"
     ]
    },
    {
     "name": "stdout",
     "output_type": "stream",
     "text": [
      "Time step 6: 8 True Price products available.\n"
     ]
    },
    {
     "name": "stderr",
     "output_type": "stream",
     "text": [
      "Simulation Progress:  88%|████████▊ | 7/8 [00:22<00:03,  3.28s/it]"
     ]
    },
    {
     "name": "stdout",
     "output_type": "stream",
     "text": [
      "Time step 7: 10 True Price products available.\n"
     ]
    },
    {
     "name": "stderr",
     "output_type": "stream",
     "text": [
      "Simulation Progress: 100%|██████████| 8/8 [00:25<00:00,  3.25s/it]\n",
      "Simulation Progress:  38%|███▊      | 3/8 [00:09<00:15,  3.20s/it]"
     ]
    },
    {
     "name": "stdout",
     "output_type": "stream",
     "text": [
      "Time step 3: 2 True Price products available.\n"
     ]
    },
    {
     "name": "stderr",
     "output_type": "stream",
     "text": [
      "Simulation Progress:  50%|█████     | 4/8 [00:12<00:12,  3.20s/it]"
     ]
    },
    {
     "name": "stdout",
     "output_type": "stream",
     "text": [
      "Time step 4: 4 True Price products available.\n"
     ]
    },
    {
     "name": "stderr",
     "output_type": "stream",
     "text": [
      "Simulation Progress:  62%|██████▎   | 5/8 [00:15<00:09,  3.19s/it]"
     ]
    },
    {
     "name": "stdout",
     "output_type": "stream",
     "text": [
      "Time step 5: 6 True Price products available.\n"
     ]
    },
    {
     "name": "stderr",
     "output_type": "stream",
     "text": [
      "Simulation Progress:  75%|███████▌  | 6/8 [00:19<00:06,  3.19s/it]"
     ]
    },
    {
     "name": "stdout",
     "output_type": "stream",
     "text": [
      "Time step 6: 8 True Price products available.\n"
     ]
    },
    {
     "name": "stderr",
     "output_type": "stream",
     "text": [
      "Simulation Progress:  88%|████████▊ | 7/8 [00:22<00:03,  3.19s/it]"
     ]
    },
    {
     "name": "stdout",
     "output_type": "stream",
     "text": [
      "Time step 7: 10 True Price products available.\n"
     ]
    },
    {
     "name": "stderr",
     "output_type": "stream",
     "text": [
      "Simulation Progress: 100%|██████████| 8/8 [00:25<00:00,  3.19s/it]\n",
      "Simulation Progress:  38%|███▊      | 3/8 [00:09<00:15,  3.18s/it]"
     ]
    },
    {
     "name": "stdout",
     "output_type": "stream",
     "text": [
      "Time step 3: 2 True Price products available.\n"
     ]
    },
    {
     "name": "stderr",
     "output_type": "stream",
     "text": [
      "Simulation Progress:  50%|█████     | 4/8 [00:12<00:12,  3.18s/it]"
     ]
    },
    {
     "name": "stdout",
     "output_type": "stream",
     "text": [
      "Time step 4: 4 True Price products available.\n"
     ]
    },
    {
     "name": "stderr",
     "output_type": "stream",
     "text": [
      "Simulation Progress:  62%|██████▎   | 5/8 [00:15<00:09,  3.18s/it]"
     ]
    },
    {
     "name": "stdout",
     "output_type": "stream",
     "text": [
      "Time step 5: 6 True Price products available.\n"
     ]
    },
    {
     "name": "stderr",
     "output_type": "stream",
     "text": [
      "Simulation Progress:  75%|███████▌  | 6/8 [00:19<00:06,  3.18s/it]"
     ]
    },
    {
     "name": "stdout",
     "output_type": "stream",
     "text": [
      "Time step 6: 8 True Price products available.\n"
     ]
    },
    {
     "name": "stderr",
     "output_type": "stream",
     "text": [
      "Simulation Progress:  88%|████████▊ | 7/8 [00:22<00:03,  3.18s/it]"
     ]
    },
    {
     "name": "stdout",
     "output_type": "stream",
     "text": [
      "Time step 7: 10 True Price products available.\n"
     ]
    },
    {
     "name": "stderr",
     "output_type": "stream",
     "text": [
      "Simulation Progress: 100%|██████████| 8/8 [00:25<00:00,  3.18s/it]\n",
      "Simulation Progress:  38%|███▊      | 3/8 [00:09<00:15,  3.18s/it]"
     ]
    },
    {
     "name": "stdout",
     "output_type": "stream",
     "text": [
      "Time step 3: 2 True Price products available.\n"
     ]
    },
    {
     "name": "stderr",
     "output_type": "stream",
     "text": [
      "Simulation Progress:  50%|█████     | 4/8 [00:12<00:12,  3.18s/it]"
     ]
    },
    {
     "name": "stdout",
     "output_type": "stream",
     "text": [
      "Time step 4: 4 True Price products available.\n"
     ]
    },
    {
     "name": "stderr",
     "output_type": "stream",
     "text": [
      "Simulation Progress:  62%|██████▎   | 5/8 [00:15<00:09,  3.18s/it]"
     ]
    },
    {
     "name": "stdout",
     "output_type": "stream",
     "text": [
      "Time step 5: 6 True Price products available.\n"
     ]
    },
    {
     "name": "stderr",
     "output_type": "stream",
     "text": [
      "Simulation Progress:  75%|███████▌  | 6/8 [00:19<00:06,  3.18s/it]"
     ]
    },
    {
     "name": "stdout",
     "output_type": "stream",
     "text": [
      "Time step 6: 8 True Price products available.\n"
     ]
    },
    {
     "name": "stderr",
     "output_type": "stream",
     "text": [
      "Simulation Progress:  88%|████████▊ | 7/8 [00:22<00:03,  3.18s/it]"
     ]
    },
    {
     "name": "stdout",
     "output_type": "stream",
     "text": [
      "Time step 7: 10 True Price products available.\n"
     ]
    },
    {
     "name": "stderr",
     "output_type": "stream",
     "text": [
      "Simulation Progress: 100%|██████████| 8/8 [00:25<00:00,  3.18s/it]\n",
      "Simulation Progress:  38%|███▊      | 3/8 [00:09<00:15,  3.18s/it]"
     ]
    },
    {
     "name": "stdout",
     "output_type": "stream",
     "text": [
      "Time step 3: 2 True Price products available.\n"
     ]
    },
    {
     "name": "stderr",
     "output_type": "stream",
     "text": [
      "Simulation Progress:  50%|█████     | 4/8 [00:12<00:12,  3.18s/it]"
     ]
    },
    {
     "name": "stdout",
     "output_type": "stream",
     "text": [
      "Time step 4: 4 True Price products available.\n"
     ]
    },
    {
     "name": "stderr",
     "output_type": "stream",
     "text": [
      "Simulation Progress:  62%|██████▎   | 5/8 [00:15<00:09,  3.18s/it]"
     ]
    },
    {
     "name": "stdout",
     "output_type": "stream",
     "text": [
      "Time step 5: 6 True Price products available.\n"
     ]
    },
    {
     "name": "stderr",
     "output_type": "stream",
     "text": [
      "Simulation Progress:  75%|███████▌  | 6/8 [00:19<00:06,  3.17s/it]"
     ]
    },
    {
     "name": "stdout",
     "output_type": "stream",
     "text": [
      "Time step 6: 8 True Price products available.\n"
     ]
    },
    {
     "name": "stderr",
     "output_type": "stream",
     "text": [
      "Simulation Progress:  88%|████████▊ | 7/8 [00:22<00:03,  3.17s/it]"
     ]
    },
    {
     "name": "stdout",
     "output_type": "stream",
     "text": [
      "Time step 7: 10 True Price products available.\n"
     ]
    },
    {
     "name": "stderr",
     "output_type": "stream",
     "text": [
      "Simulation Progress: 100%|██████████| 8/8 [00:25<00:00,  3.18s/it]\n",
      "Simulation Progress:  38%|███▊      | 3/8 [00:09<00:15,  3.19s/it]"
     ]
    },
    {
     "name": "stdout",
     "output_type": "stream",
     "text": [
      "Time step 3: 2 True Price products available.\n"
     ]
    },
    {
     "name": "stderr",
     "output_type": "stream",
     "text": [
      "Simulation Progress:  50%|█████     | 4/8 [00:12<00:12,  3.19s/it]"
     ]
    },
    {
     "name": "stdout",
     "output_type": "stream",
     "text": [
      "Time step 4: 4 True Price products available.\n"
     ]
    },
    {
     "name": "stderr",
     "output_type": "stream",
     "text": [
      "Simulation Progress:  62%|██████▎   | 5/8 [00:15<00:09,  3.19s/it]"
     ]
    },
    {
     "name": "stdout",
     "output_type": "stream",
     "text": [
      "Time step 5: 6 True Price products available.\n"
     ]
    },
    {
     "name": "stderr",
     "output_type": "stream",
     "text": [
      "Simulation Progress:  75%|███████▌  | 6/8 [00:19<00:06,  3.19s/it]"
     ]
    },
    {
     "name": "stdout",
     "output_type": "stream",
     "text": [
      "Time step 6: 8 True Price products available.\n"
     ]
    },
    {
     "name": "stderr",
     "output_type": "stream",
     "text": [
      "Simulation Progress:  88%|████████▊ | 7/8 [00:22<00:03,  3.18s/it]"
     ]
    },
    {
     "name": "stdout",
     "output_type": "stream",
     "text": [
      "Time step 7: 10 True Price products available.\n"
     ]
    },
    {
     "name": "stderr",
     "output_type": "stream",
     "text": [
      "Simulation Progress: 100%|██████████| 8/8 [00:25<00:00,  3.19s/it]\n",
      "Simulation Progress:  38%|███▊      | 3/8 [00:09<00:16,  3.21s/it]"
     ]
    },
    {
     "name": "stdout",
     "output_type": "stream",
     "text": [
      "Time step 3: 2 True Price products available.\n"
     ]
    },
    {
     "name": "stderr",
     "output_type": "stream",
     "text": [
      "Simulation Progress:  50%|█████     | 4/8 [00:12<00:12,  3.20s/it]"
     ]
    },
    {
     "name": "stdout",
     "output_type": "stream",
     "text": [
      "Time step 4: 4 True Price products available.\n"
     ]
    },
    {
     "name": "stderr",
     "output_type": "stream",
     "text": [
      "Simulation Progress:  62%|██████▎   | 5/8 [00:15<00:09,  3.18s/it]"
     ]
    },
    {
     "name": "stdout",
     "output_type": "stream",
     "text": [
      "Time step 5: 6 True Price products available.\n"
     ]
    },
    {
     "name": "stderr",
     "output_type": "stream",
     "text": [
      "Simulation Progress:  75%|███████▌  | 6/8 [00:19<00:06,  3.18s/it]"
     ]
    },
    {
     "name": "stdout",
     "output_type": "stream",
     "text": [
      "Time step 6: 8 True Price products available.\n"
     ]
    },
    {
     "name": "stderr",
     "output_type": "stream",
     "text": [
      "Simulation Progress:  88%|████████▊ | 7/8 [00:22<00:03,  3.19s/it]"
     ]
    },
    {
     "name": "stdout",
     "output_type": "stream",
     "text": [
      "Time step 7: 10 True Price products available.\n"
     ]
    },
    {
     "name": "stderr",
     "output_type": "stream",
     "text": [
      "Simulation Progress: 100%|██████████| 8/8 [00:25<00:00,  3.19s/it]\n",
      "Simulation Progress:  38%|███▊      | 3/8 [00:09<00:15,  3.19s/it]"
     ]
    },
    {
     "name": "stdout",
     "output_type": "stream",
     "text": [
      "Time step 3: 2 True Price products available.\n"
     ]
    },
    {
     "name": "stderr",
     "output_type": "stream",
     "text": [
      "Simulation Progress:  50%|█████     | 4/8 [00:12<00:12,  3.20s/it]"
     ]
    },
    {
     "name": "stdout",
     "output_type": "stream",
     "text": [
      "Time step 4: 4 True Price products available.\n"
     ]
    },
    {
     "name": "stderr",
     "output_type": "stream",
     "text": [
      "Simulation Progress:  62%|██████▎   | 5/8 [00:15<00:09,  3.20s/it]"
     ]
    },
    {
     "name": "stdout",
     "output_type": "stream",
     "text": [
      "Time step 5: 6 True Price products available.\n"
     ]
    },
    {
     "name": "stderr",
     "output_type": "stream",
     "text": [
      "Simulation Progress:  75%|███████▌  | 6/8 [00:19<00:06,  3.19s/it]"
     ]
    },
    {
     "name": "stdout",
     "output_type": "stream",
     "text": [
      "Time step 6: 8 True Price products available.\n"
     ]
    },
    {
     "name": "stderr",
     "output_type": "stream",
     "text": [
      "Simulation Progress:  88%|████████▊ | 7/8 [00:22<00:03,  3.19s/it]"
     ]
    },
    {
     "name": "stdout",
     "output_type": "stream",
     "text": [
      "Time step 7: 10 True Price products available.\n"
     ]
    },
    {
     "name": "stderr",
     "output_type": "stream",
     "text": [
      "Simulation Progress: 100%|██████████| 8/8 [00:25<00:00,  3.19s/it]\n",
      "Simulation Progress:  38%|███▊      | 3/8 [00:09<00:15,  3.20s/it]"
     ]
    },
    {
     "name": "stdout",
     "output_type": "stream",
     "text": [
      "Time step 3: 2 True Price products available.\n"
     ]
    },
    {
     "name": "stderr",
     "output_type": "stream",
     "text": [
      "Simulation Progress:  50%|█████     | 4/8 [00:12<00:12,  3.19s/it]"
     ]
    },
    {
     "name": "stdout",
     "output_type": "stream",
     "text": [
      "Time step 4: 4 True Price products available.\n"
     ]
    },
    {
     "name": "stderr",
     "output_type": "stream",
     "text": [
      "Simulation Progress:  62%|██████▎   | 5/8 [00:15<00:09,  3.19s/it]"
     ]
    },
    {
     "name": "stdout",
     "output_type": "stream",
     "text": [
      "Time step 5: 6 True Price products available.\n"
     ]
    },
    {
     "name": "stderr",
     "output_type": "stream",
     "text": [
      "Simulation Progress:  75%|███████▌  | 6/8 [00:19<00:06,  3.19s/it]"
     ]
    },
    {
     "name": "stdout",
     "output_type": "stream",
     "text": [
      "Time step 6: 8 True Price products available.\n"
     ]
    },
    {
     "name": "stderr",
     "output_type": "stream",
     "text": [
      "Simulation Progress:  88%|████████▊ | 7/8 [00:22<00:03,  3.20s/it]"
     ]
    },
    {
     "name": "stdout",
     "output_type": "stream",
     "text": [
      "Time step 7: 10 True Price products available.\n"
     ]
    },
    {
     "name": "stderr",
     "output_type": "stream",
     "text": [
      "Simulation Progress: 100%|██████████| 8/8 [00:25<00:00,  3.20s/it]\n"
     ]
    },
    {
     "data": {
      "image/png": "[encoded data removed]",
      "text/plain": [
       "<Figure size 1000x600 with 1 Axes>"
      ]
     },
     "metadata": {},
     "output_type": "display_data"
    },
    {
     "name": "stdout",
     "output_type": "stream",
     "text": [
      "Running simulations for Barabasi-Albert network...\n"
     ]
    },
    {
     "name": "stderr",
     "output_type": "stream",
     "text": [
      "Simulation Progress:  38%|███▊      | 3/8 [00:10<00:16,  3.34s/it]"
     ]
    },
    {
     "name": "stdout",
     "output_type": "stream",
     "text": [
      "Time step 3: 2 True Price products available.\n"
     ]
    },
    {
     "name": "stderr",
     "output_type": "stream",
     "text": [
      "Simulation Progress:  50%|█████     | 4/8 [00:13<00:13,  3.33s/it]"
     ]
    },
    {
     "name": "stdout",
     "output_type": "stream",
     "text": [
      "Time step 4: 4 True Price products available.\n"
     ]
    },
    {
     "name": "stderr",
     "output_type": "stream",
     "text": [
      "Simulation Progress:  62%|██████▎   | 5/8 [00:16<00:09,  3.33s/it]"
     ]
    },
    {
     "name": "stdout",
     "output_type": "stream",
     "text": [
      "Time step 5: 6 True Price products available.\n"
     ]
    },
    {
     "name": "stderr",
     "output_type": "stream",
     "text": [
      "Simulation Progress:  75%|███████▌  | 6/8 [00:19<00:06,  3.33s/it]"
     ]
    },
    {
     "name": "stdout",
     "output_type": "stream",
     "text": [
      "Time step 6: 8 True Price products available.\n"
     ]
    },
    {
     "name": "stderr",
     "output_type": "stream",
     "text": [
      "Simulation Progress:  88%|████████▊ | 7/8 [00:23<00:03,  3.34s/it]"
     ]
    },
    {
     "name": "stdout",
     "output_type": "stream",
     "text": [
      "Time step 7: 10 True Price products available.\n"
     ]
    },
    {
     "name": "stderr",
     "output_type": "stream",
     "text": [
      "Simulation Progress: 100%|██████████| 8/8 [00:26<00:00,  3.34s/it]\n",
      "Simulation Progress:  38%|███▊      | 3/8 [00:10<00:16,  3.35s/it]"
     ]
    },
    {
     "name": "stdout",
     "output_type": "stream",
     "text": [
      "Time step 3: 2 True Price products available.\n"
     ]
    },
    {
     "name": "stderr",
     "output_type": "stream",
     "text": [
      "Simulation Progress:  50%|█████     | 4/8 [00:13<00:13,  3.34s/it]"
     ]
    },
    {
     "name": "stdout",
     "output_type": "stream",
     "text": [
      "Time step 4: 4 True Price products available.\n"
     ]
    },
    {
     "name": "stderr",
     "output_type": "stream",
     "text": [
      "Simulation Progress:  62%|██████▎   | 5/8 [00:16<00:10,  3.34s/it]"
     ]
    },
    {
     "name": "stdout",
     "output_type": "stream",
     "text": [
      "Time step 5: 6 True Price products available.\n"
     ]
    },
    {
     "name": "stderr",
     "output_type": "stream",
     "text": [
      "Simulation Progress:  75%|███████▌  | 6/8 [00:20<00:06,  3.34s/it]"
     ]
    },
    {
     "name": "stdout",
     "output_type": "stream",
     "text": [
      "Time step 6: 8 True Price products available.\n"
     ]
    },
    {
     "name": "stderr",
     "output_type": "stream",
     "text": [
      "Simulation Progress:  88%|████████▊ | 7/8 [00:23<00:03,  3.35s/it]"
     ]
    },
    {
     "name": "stdout",
     "output_type": "stream",
     "text": [
      "Time step 7: 10 True Price products available.\n"
     ]
    },
    {
     "name": "stderr",
     "output_type": "stream",
     "text": [
      "Simulation Progress: 100%|██████████| 8/8 [00:26<00:00,  3.35s/it]\n",
      "Simulation Progress:  38%|███▊      | 3/8 [00:10<00:16,  3.34s/it]"
     ]
    },
    {
     "name": "stdout",
     "output_type": "stream",
     "text": [
      "Time step 3: 2 True Price products available.\n"
     ]
    },
    {
     "name": "stderr",
     "output_type": "stream",
     "text": [
      "Simulation Progress:  50%|█████     | 4/8 [00:13<00:13,  3.33s/it]"
     ]
    },
    {
     "name": "stdout",
     "output_type": "stream",
     "text": [
      "Time step 4: 4 True Price products available.\n"
     ]
    },
    {
     "name": "stderr",
     "output_type": "stream",
     "text": [
      "Simulation Progress:  62%|██████▎   | 5/8 [00:16<00:10,  3.34s/it]"
     ]
    },
    {
     "name": "stdout",
     "output_type": "stream",
     "text": [
      "Time step 5: 6 True Price products available.\n"
     ]
    },
    {
     "name": "stderr",
     "output_type": "stream",
     "text": [
      "Simulation Progress:  75%|███████▌  | 6/8 [00:20<00:06,  3.34s/it]"
     ]
    },
    {
     "name": "stdout",
     "output_type": "stream",
     "text": [
      "Time step 6: 8 True Price products available.\n"
     ]
    },
    {
     "name": "stderr",
     "output_type": "stream",
     "text": [
      "Simulation Progress:  88%|████████▊ | 7/8 [00:23<00:03,  3.34s/it]"
     ]
    },
    {
     "name": "stdout",
     "output_type": "stream",
     "text": [
      "Time step 7: 10 True Price products available.\n"
     ]
    },
    {
     "name": "stderr",
     "output_type": "stream",
     "text": [
      "Simulation Progress: 100%|██████████| 8/8 [00:26<00:00,  3.34s/it]\n",
      "Simulation Progress:  38%|███▊      | 3/8 [00:10<00:16,  3.34s/it]"
     ]
    },
    {
     "name": "stdout",
     "output_type": "stream",
     "text": [
      "Time step 3: 2 True Price products available.\n"
     ]
    },
    {
     "name": "stderr",
     "output_type": "stream",
     "text": [
      "Simulation Progress:  50%|█████     | 4/8 [00:13<00:13,  3.34s/it]"
     ]
    },
    {
     "name": "stdout",
     "output_type": "stream",
     "text": [
      "Time step 4: 4 True Price products available.\n"
     ]
    },
    {
     "name": "stderr",
     "output_type": "stream",
     "text": [
      "Simulation Progress:  62%|██████▎   | 5/8 [00:16<00:09,  3.33s/it]"
     ]
    },
    {
     "name": "stdout",
     "output_type": "stream",
     "text": [
      "Time step 5: 6 True Price products available.\n"
     ]
    },
    {
     "name": "stderr",
     "output_type": "stream",
     "text": [
      "Simulation Progress:  75%|███████▌  | 6/8 [00:19<00:06,  3.32s/it]"
     ]
    },
    {
     "name": "stdout",
     "output_type": "stream",
     "text": [
      "Time step 6: 8 True Price products available.\n"
     ]
    },
    {
     "name": "stderr",
     "output_type": "stream",
     "text": [
      "Simulation Progress:  88%|████████▊ | 7/8 [00:23<00:03,  3.33s/it]"
     ]
    },
    {
     "name": "stdout",
     "output_type": "stream",
     "text": [
      "Time step 7: 10 True Price products available.\n"
     ]
    },
    {
     "name": "stderr",
     "output_type": "stream",
     "text": [
      "Simulation Progress: 100%|██████████| 8/8 [00:26<00:00,  3.33s/it]\n",
      "Simulation Progress:  38%|███▊      | 3/8 [00:10<00:16,  3.33s/it]"
     ]
    },
    {
     "name": "stdout",
     "output_type": "stream",
     "text": [
      "Time step 3: 2 True Price products available.\n"
     ]
    },
    {
     "name": "stderr",
     "output_type": "stream",
     "text": [
      "Simulation Progress:  50%|█████     | 4/8 [00:13<00:13,  3.32s/it]"
     ]
    },
    {
     "name": "stdout",
     "output_type": "stream",
     "text": [
      "Time step 4: 4 True Price products available.\n"
     ]
    },
    {
     "name": "stderr",
     "output_type": "stream",
     "text": [
      "Simulation Progress:  62%|██████▎   | 5/8 [00:16<00:09,  3.32s/it]"
     ]
    },
    {
     "name": "stdout",
     "output_type": "stream",
     "text": [
      "Time step 5: 6 True Price products available.\n"
     ]
    },
    {
     "name": "stderr",
     "output_type": "stream",
     "text": [
      "Simulation Progress:  75%|███████▌  | 6/8 [00:19<00:06,  3.32s/it]"
     ]
    },
    {
     "name": "stdout",
     "output_type": "stream",
     "text": [
      "Time step 6: 8 True Price products available.\n"
     ]
    },
    {
     "name": "stderr",
     "output_type": "stream",
     "text": [
      "Simulation Progress:  88%|████████▊ | 7/8 [00:23<00:03,  3.33s/it]"
     ]
    },
    {
     "name": "stdout",
     "output_type": "stream",
     "text": [
      "Time step 7: 10 True Price products available.\n"
     ]
    },
    {
     "name": "stderr",
     "output_type": "stream",
     "text": [
      "Simulation Progress: 100%|██████████| 8/8 [00:26<00:00,  3.33s/it]\n",
      "Simulation Progress:  38%|███▊      | 3/8 [00:09<00:16,  3.31s/it]"
     ]
    },
    {
     "name": "stdout",
     "output_type": "stream",
     "text": [
      "Time step 3: 2 True Price products available.\n"
     ]
    },
    {
     "name": "stderr",
     "output_type": "stream",
     "text": [
      "Simulation Progress:  50%|█████     | 4/8 [00:13<00:13,  3.31s/it]"
     ]
    },
    {
     "name": "stdout",
     "output_type": "stream",
     "text": [
      "Time step 4: 4 True Price products available.\n"
     ]
    },
    {
     "name": "stderr",
     "output_type": "stream",
     "text": [
      "Simulation Progress:  62%|██████▎   | 5/8 [00:16<00:09,  3.31s/it]"
     ]
    },
    {
     "name": "stdout",
     "output_type": "stream",
     "text": [
      "Time step 5: 6 True Price products available.\n"
     ]
    },
    {
     "name": "stderr",
     "output_type": "stream",
     "text": [
      "Simulation Progress:  75%|███████▌  | 6/8 [00:19<00:06,  3.30s/it]"
     ]
    },
    {
     "name": "stdout",
     "output_type": "stream",
     "text": [
      "Time step 6: 8 True Price products available.\n"
     ]
    },
    {
     "name": "stderr",
     "output_type": "stream",
     "text": [
      "Simulation Progress:  88%|████████▊ | 7/8 [00:23<00:03,  3.31s/it]"
     ]
    },
    {
     "name": "stdout",
     "output_type": "stream",
     "text": [
      "Time step 7: 10 True Price products available.\n"
     ]
    },
    {
     "name": "stderr",
     "output_type": "stream",
     "text": [
      "Simulation Progress: 100%|██████████| 8/8 [00:26<00:00,  3.31s/it]\n",
      "Simulation Progress:  38%|███▊      | 3/8 [00:10<00:16,  3.34s/it]"
     ]
    },
    {
     "name": "stdout",
     "output_type": "stream",
     "text": [
      "Time step 3: 2 True Price products available.\n"
     ]
    },
    {
     "name": "stderr",
     "output_type": "stream",
     "text": [
      "Simulation Progress:  50%|█████     | 4/8 [00:13<00:13,  3.34s/it]"
     ]
    },
    {
     "name": "stdout",
     "output_type": "stream",
     "text": [
      "Time step 4: 4 True Price products available.\n"
     ]
    },
    {
     "name": "stderr",
     "output_type": "stream",
     "text": [
      "Simulation Progress:  62%|██████▎   | 5/8 [00:16<00:10,  3.34s/it]"
     ]
    },
    {
     "name": "stdout",
     "output_type": "stream",
     "text": [
      "Time step 5: 6 True Price products available.\n"
     ]
    },
    {
     "name": "stderr",
     "output_type": "stream",
     "text": [
      "Simulation Progress:  75%|███████▌  | 6/8 [00:20<00:06,  3.34s/it]"
     ]
    },
    {
     "name": "stdout",
     "output_type": "stream",
     "text": [
      "Time step 6: 8 True Price products available.\n"
     ]
    },
    {
     "name": "stderr",
     "output_type": "stream",
     "text": [
      "Simulation Progress:  88%|████████▊ | 7/8 [00:23<00:03,  3.34s/it]"
     ]
    },
    {
     "name": "stdout",
     "output_type": "stream",
     "text": [
      "Time step 7: 10 True Price products available.\n"
     ]
    },
    {
     "name": "stderr",
     "output_type": "stream",
     "text": [
      "Simulation Progress: 100%|██████████| 8/8 [00:26<00:00,  3.34s/it]\n",
      "Simulation Progress:  38%|███▊      | 3/8 [00:10<00:16,  3.33s/it]"
     ]
    },
    {
     "name": "stdout",
     "output_type": "stream",
     "text": [
      "Time step 3: 2 True Price products available.\n"
     ]
    },
    {
     "name": "stderr",
     "output_type": "stream",
     "text": [
      "Simulation Progress:  50%|█████     | 4/8 [00:13<00:13,  3.32s/it]"
     ]
    },
    {
     "name": "stdout",
     "output_type": "stream",
     "text": [
      "Time step 4: 4 True Price products available.\n"
     ]
    },
    {
     "name": "stderr",
     "output_type": "stream",
     "text": [
      "Simulation Progress:  62%|██████▎   | 5/8 [00:16<00:09,  3.32s/it]"
     ]
    },
    {
     "name": "stdout",
     "output_type": "stream",
     "text": [
      "Time step 5: 6 True Price products available.\n"
     ]
    },
    {
     "name": "stderr",
     "output_type": "stream",
     "text": [
      "Simulation Progress:  75%|███████▌  | 6/8 [00:19<00:06,  3.32s/it]"
     ]
    },
    {
     "name": "stdout",
     "output_type": "stream",
     "text": [
      "Time step 6: 8 True Price products available.\n"
     ]
    },
    {
     "name": "stderr",
     "output_type": "stream",
     "text": [
      "Simulation Progress:  88%|████████▊ | 7/8 [00:23<00:03,  3.33s/it]"
     ]
    },
    {
     "name": "stdout",
     "output_type": "stream",
     "text": [
      "Time step 7: 10 True Price products available.\n"
     ]
    },
    {
     "name": "stderr",
     "output_type": "stream",
     "text": [
      "Simulation Progress: 100%|██████████| 8/8 [00:26<00:00,  3.33s/it]\n",
      "Simulation Progress:  38%|███▊      | 3/8 [00:09<00:16,  3.33s/it]"
     ]
    },
    {
     "name": "stdout",
     "output_type": "stream",
     "text": [
      "Time step 3: 2 True Price products available.\n"
     ]
    },
    {
     "name": "stderr",
     "output_type": "stream",
     "text": [
      "Simulation Progress:  50%|█████     | 4/8 [00:13<00:13,  3.33s/it]"
     ]
    },
    {
     "name": "stdout",
     "output_type": "stream",
     "text": [
      "Time step 4: 4 True Price products available.\n"
     ]
    },
    {
     "name": "stderr",
     "output_type": "stream",
     "text": [
      "Simulation Progress:  62%|██████▎   | 5/8 [00:16<00:09,  3.33s/it]"
     ]
    },
    {
     "name": "stdout",
     "output_type": "stream",
     "text": [
      "Time step 5: 6 True Price products available.\n"
     ]
    },
    {
     "name": "stderr",
     "output_type": "stream",
     "text": [
      "Simulation Progress:  75%|███████▌  | 6/8 [00:19<00:06,  3.33s/it]"
     ]
    },
    {
     "name": "stdout",
     "output_type": "stream",
     "text": [
      "Time step 6: 8 True Price products available.\n"
     ]
    },
    {
     "name": "stderr",
     "output_type": "stream",
     "text": [
      "Simulation Progress:  88%|████████▊ | 7/8 [00:23<00:03,  3.33s/it]"
     ]
    },
    {
     "name": "stdout",
     "output_type": "stream",
     "text": [
      "Time step 7: 10 True Price products available.\n"
     ]
    },
    {
     "name": "stderr",
     "output_type": "stream",
     "text": [
      "Simulation Progress: 100%|██████████| 8/8 [00:26<00:00,  3.33s/it]\n",
      "Simulation Progress:  38%|███▊      | 3/8 [00:10<00:16,  3.34s/it]"
     ]
    },
    {
     "name": "stdout",
     "output_type": "stream",
     "text": [
      "Time step 3: 2 True Price products available.\n"
     ]
    },
    {
     "name": "stderr",
     "output_type": "stream",
     "text": [
      "Simulation Progress:  50%|█████     | 4/8 [00:13<00:13,  3.34s/it]"
     ]
    },
    {
     "name": "stdout",
     "output_type": "stream",
     "text": [
      "Time step 4: 4 True Price products available.\n"
     ]
    },
    {
     "name": "stderr",
     "output_type": "stream",
     "text": [
      "Simulation Progress:  62%|██████▎   | 5/8 [00:16<00:10,  3.34s/it]"
     ]
    },
    {
     "name": "stdout",
     "output_type": "stream",
     "text": [
      "Time step 5: 6 True Price products available.\n"
     ]
    },
    {
     "name": "stderr",
     "output_type": "stream",
     "text": [
      "Simulation Progress:  75%|███████▌  | 6/8 [00:20<00:06,  3.34s/it]"
     ]
    },
    {
     "name": "stdout",
     "output_type": "stream",
     "text": [
      "Time step 6: 8 True Price products available.\n"
     ]
    },
    {
     "name": "stderr",
     "output_type": "stream",
     "text": [
      "Simulation Progress:  88%|████████▊ | 7/8 [00:23<00:03,  3.35s/it]"
     ]
    },
    {
     "name": "stdout",
     "output_type": "stream",
     "text": [
      "Time step 7: 10 True Price products available.\n"
     ]
    },
    {
     "name": "stderr",
     "output_type": "stream",
     "text": [
      "Simulation Progress: 100%|██████████| 8/8 [00:26<00:00,  3.34s/it]\n"
     ]
    },
    {
     "data": {
      "image/png": "[encoded data removed]",
      "text/plain": [
       "<Figure size 1000x600 with 1 Axes>"
      ]
     },
     "metadata": {},
     "output_type": "display_data"
    },
    {
     "name": "stdout",
     "output_type": "stream",
     "text": [
      "Running simulations for Random Regular network...\n"
     ]
    },
    {
     "name": "stderr",
     "output_type": "stream",
     "text": [
      "Simulation Progress:  38%|███▊      | 3/8 [00:08<00:14,  2.92s/it]"
     ]
    },
    {
     "name": "stdout",
     "output_type": "stream",
     "text": [
      "Time step 3: 2 True Price products available.\n"
     ]
    },
    {
     "name": "stderr",
     "output_type": "stream",
     "text": [
      "Simulation Progress:  50%|█████     | 4/8 [00:11<00:11,  2.93s/it]"
     ]
    },
    {
     "name": "stdout",
     "output_type": "stream",
     "text": [
      "Time step 4: 4 True Price products available.\n"
     ]
    },
    {
     "name": "stderr",
     "output_type": "stream",
     "text": [
      "Simulation Progress:  62%|██████▎   | 5/8 [00:14<00:08,  2.92s/it]"
     ]
    },
    {
     "name": "stdout",
     "output_type": "stream",
     "text": [
      "Time step 5: 6 True Price products available.\n"
     ]
    },
    {
     "name": "stderr",
     "output_type": "stream",
     "text": [
      "Simulation Progress:  75%|███████▌  | 6/8 [00:17<00:05,  2.92s/it]"
     ]
    },
    {
     "name": "stdout",
     "output_type": "stream",
     "text": [
      "Time step 6: 8 True Price products available.\n"
     ]
    },
    {
     "name": "stderr",
     "output_type": "stream",
     "text": [
      "Simulation Progress:  88%|████████▊ | 7/8 [00:20<00:02,  2.93s/it]"
     ]
    },
    {
     "name": "stdout",
     "output_type": "stream",
     "text": [
      "Time step 7: 10 True Price products available.\n"
     ]
    },
    {
     "name": "stderr",
     "output_type": "stream",
     "text": [
      "Simulation Progress: 100%|██████████| 8/8 [00:23<00:00,  2.93s/it]\n",
      "Simulation Progress:  38%|███▊      | 3/8 [00:08<00:14,  2.93s/it]"
     ]
    },
    {
     "name": "stdout",
     "output_type": "stream",
     "text": [
      "Time step 3: 2 True Price products available.\n"
     ]
    },
    {
     "name": "stderr",
     "output_type": "stream",
     "text": [
      "Simulation Progress:  50%|█████     | 4/8 [00:11<00:11,  2.93s/it]"
     ]
    },
    {
     "name": "stdout",
     "output_type": "stream",
     "text": [
      "Time step 4: 4 True Price products available.\n"
     ]
    },
    {
     "name": "stderr",
     "output_type": "stream",
     "text": [
      "Simulation Progress:  62%|██████▎   | 5/8 [00:14<00:08,  2.92s/it]"
     ]
    },
    {
     "name": "stdout",
     "output_type": "stream",
     "text": [
      "Time step 5: 6 True Price products available.\n"
     ]
    },
    {
     "name": "stderr",
     "output_type": "stream",
     "text": [
      "Simulation Progress:  75%|███████▌  | 6/8 [00:17<00:05,  2.92s/it]"
     ]
    },
    {
     "name": "stdout",
     "output_type": "stream",
     "text": [
      "Time step 6: 8 True Price products available.\n"
     ]
    },
    {
     "name": "stderr",
     "output_type": "stream",
     "text": [
      "Simulation Progress:  88%|████████▊ | 7/8 [00:20<00:02,  2.90s/it]"
     ]
    },
    {
     "name": "stdout",
     "output_type": "stream",
     "text": [
      "Time step 7: 10 True Price products available.\n"
     ]
    },
    {
     "name": "stderr",
     "output_type": "stream",
     "text": [
      "Simulation Progress: 100%|██████████| 8/8 [00:23<00:00,  2.92s/it]\n",
      "Simulation Progress:  38%|███▊      | 3/8 [00:08<00:14,  2.92s/it]"
     ]
    },
    {
     "name": "stdout",
     "output_type": "stream",
     "text": [
      "Time step 3: 2 True Price products available.\n"
     ]
    },
    {
     "name": "stderr",
     "output_type": "stream",
     "text": [
      "Simulation Progress:  50%|█████     | 4/8 [00:11<00:11,  2.92s/it]"
     ]
    },
    {
     "name": "stdout",
     "output_type": "stream",
     "text": [
      "Time step 4: 4 True Price products available.\n"
     ]
    },
    {
     "name": "stderr",
     "output_type": "stream",
     "text": [
      "Simulation Progress:  62%|██████▎   | 5/8 [00:14<00:08,  2.92s/it]"
     ]
    },
    {
     "name": "stdout",
     "output_type": "stream",
     "text": [
      "Time step 5: 6 True Price products available.\n"
     ]
    },
    {
     "name": "stderr",
     "output_type": "stream",
     "text": [
      "Simulation Progress:  75%|███████▌  | 6/8 [00:17<00:05,  2.92s/it]"
     ]
    },
    {
     "name": "stdout",
     "output_type": "stream",
     "text": [
      "Time step 6: 8 True Price products available.\n"
     ]
    },
    {
     "name": "stderr",
     "output_type": "stream",
     "text": [
      "Simulation Progress:  88%|████████▊ | 7/8 [00:20<00:02,  2.93s/it]"
     ]
    },
    {
     "name": "stdout",
     "output_type": "stream",
     "text": [
      "Time step 7: 10 True Price products available.\n"
     ]
    },
    {
     "name": "stderr",
     "output_type": "stream",
     "text": [
      "Simulation Progress: 100%|██████████| 8/8 [00:23<00:00,  2.92s/it]\n",
      "Simulation Progress:  38%|███▊      | 3/8 [00:08<00:14,  2.91s/it]"
     ]
    },
    {
     "name": "stdout",
     "output_type": "stream",
     "text": [
      "Time step 3: 2 True Price products available.\n"
     ]
    },
    {
     "name": "stderr",
     "output_type": "stream",
     "text": [
      "Simulation Progress:  50%|█████     | 4/8 [00:11<00:11,  2.91s/it]"
     ]
    },
    {
     "name": "stdout",
     "output_type": "stream",
     "text": [
      "Time step 4: 4 True Price products available.\n"
     ]
    },
    {
     "name": "stderr",
     "output_type": "stream",
     "text": [
      "Simulation Progress:  62%|██████▎   | 5/8 [00:14<00:08,  2.90s/it]"
     ]
    },
    {
     "name": "stdout",
     "output_type": "stream",
     "text": [
      "Time step 5: 6 True Price products available.\n"
     ]
    },
    {
     "name": "stderr",
     "output_type": "stream",
     "text": [
      "Simulation Progress:  75%|███████▌  | 6/8 [00:17<00:05,  2.90s/it]"
     ]
    },
    {
     "name": "stdout",
     "output_type": "stream",
     "text": [
      "Time step 6: 8 True Price products available.\n"
     ]
    },
    {
     "name": "stderr",
     "output_type": "stream",
     "text": [
      "Simulation Progress:  88%|████████▊ | 7/8 [00:20<00:02,  2.92s/it]"
     ]
    },
    {
     "name": "stdout",
     "output_type": "stream",
     "text": [
      "Time step 7: 10 True Price products available.\n"
     ]
    },
    {
     "name": "stderr",
     "output_type": "stream",
     "text": [
      "Simulation Progress: 100%|██████████| 8/8 [00:23<00:00,  2.91s/it]\n",
      "Simulation Progress:  38%|███▊      | 3/8 [00:08<00:14,  2.93s/it]"
     ]
    },
    {
     "name": "stdout",
     "output_type": "stream",
     "text": [
      "Time step 3: 2 True Price products available.\n"
     ]
    },
    {
     "name": "stderr",
     "output_type": "stream",
     "text": [
      "Simulation Progress:  50%|█████     | 4/8 [00:11<00:11,  2.93s/it]"
     ]
    },
    {
     "name": "stdout",
     "output_type": "stream",
     "text": [
      "Time step 4: 4 True Price products available.\n"
     ]
    },
    {
     "name": "stderr",
     "output_type": "stream",
     "text": [
      "Simulation Progress:  62%|██████▎   | 5/8 [00:14<00:08,  2.92s/it]"
     ]
    },
    {
     "name": "stdout",
     "output_type": "stream",
     "text": [
      "Time step 5: 6 True Price products available.\n"
     ]
    },
    {
     "name": "stderr",
     "output_type": "stream",
     "text": [
      "Simulation Progress:  75%|███████▌  | 6/8 [00:17<00:05,  2.92s/it]"
     ]
    },
    {
     "name": "stdout",
     "output_type": "stream",
     "text": [
      "Time step 6: 8 True Price products available.\n"
     ]
    },
    {
     "name": "stderr",
     "output_type": "stream",
     "text": [
      "Simulation Progress:  88%|████████▊ | 7/8 [00:20<00:02,  2.93s/it]"
     ]
    },
    {
     "name": "stdout",
     "output_type": "stream",
     "text": [
      "Time step 7: 10 True Price products available.\n"
     ]
    },
    {
     "name": "stderr",
     "output_type": "stream",
     "text": [
      "Simulation Progress: 100%|██████████| 8/8 [00:23<00:00,  2.93s/it]\n",
      "Simulation Progress:  38%|███▊      | 3/8 [00:08<00:14,  2.95s/it]"
     ]
    },
    {
     "name": "stdout",
     "output_type": "stream",
     "text": [
      "Time step 3: 2 True Price products available.\n"
     ]
    },
    {
     "name": "stderr",
     "output_type": "stream",
     "text": [
      "Simulation Progress:  50%|█████     | 4/8 [00:11<00:11,  2.94s/it]"
     ]
    },
    {
     "name": "stdout",
     "output_type": "stream",
     "text": [
      "Time step 4: 4 True Price products available.\n"
     ]
    },
    {
     "name": "stderr",
     "output_type": "stream",
     "text": [
      "Simulation Progress:  62%|██████▎   | 5/8 [00:14<00:08,  2.94s/it]"
     ]
    },
    {
     "name": "stdout",
     "output_type": "stream",
     "text": [
      "Time step 5: 6 True Price products available.\n"
     ]
    },
    {
     "name": "stderr",
     "output_type": "stream",
     "text": [
      "Simulation Progress:  75%|███████▌  | 6/8 [00:17<00:05,  2.94s/it]"
     ]
    },
    {
     "name": "stdout",
     "output_type": "stream",
     "text": [
      "Time step 6: 8 True Price products available.\n"
     ]
    },
    {
     "name": "stderr",
     "output_type": "stream",
     "text": [
      "Simulation Progress:  88%|████████▊ | 7/8 [00:20<00:02,  2.94s/it]"
     ]
    },
    {
     "name": "stdout",
     "output_type": "stream",
     "text": [
      "Time step 7: 10 True Price products available.\n"
     ]
    },
    {
     "name": "stderr",
     "output_type": "stream",
     "text": [
      "Simulation Progress: 100%|██████████| 8/8 [00:23<00:00,  2.94s/it]\n",
      "Simulation Progress:  38%|███▊      | 3/8 [00:08<00:14,  2.90s/it]"
     ]
    },
    {
     "name": "stdout",
     "output_type": "stream",
     "text": [
      "Time step 3: 2 True Price products available.\n"
     ]
    },
    {
     "name": "stderr",
     "output_type": "stream",
     "text": [
      "Simulation Progress:  50%|█████     | 4/8 [00:11<00:11,  2.90s/it]"
     ]
    },
    {
     "name": "stdout",
     "output_type": "stream",
     "text": [
      "Time step 4: 4 True Price products available.\n"
     ]
    },
    {
     "name": "stderr",
     "output_type": "stream",
     "text": [
      "Simulation Progress:  62%|██████▎   | 5/8 [00:14<00:08,  2.91s/it]"
     ]
    },
    {
     "name": "stdout",
     "output_type": "stream",
     "text": [
      "Time step 5: 6 True Price products available.\n"
     ]
    },
    {
     "name": "stderr",
     "output_type": "stream",
     "text": [
      "Simulation Progress:  75%|███████▌  | 6/8 [00:17<00:05,  2.90s/it]"
     ]
    },
    {
     "name": "stdout",
     "output_type": "stream",
     "text": [
      "Time step 6: 8 True Price products available.\n"
     ]
    },
    {
     "name": "stderr",
     "output_type": "stream",
     "text": [
      "Simulation Progress:  88%|████████▊ | 7/8 [00:20<00:02,  2.91s/it]"
     ]
    },
    {
     "name": "stdout",
     "output_type": "stream",
     "text": [
      "Time step 7: 10 True Price products available.\n"
     ]
    },
    {
     "name": "stderr",
     "output_type": "stream",
     "text": [
      "Simulation Progress: 100%|██████████| 8/8 [00:23<00:00,  2.91s/it]\n",
      "Simulation Progress:  38%|███▊      | 3/8 [00:08<00:14,  2.94s/it]"
     ]
    },
    {
     "name": "stdout",
     "output_type": "stream",
     "text": [
      "Time step 3: 2 True Price products available.\n"
     ]
    },
    {
     "name": "stderr",
     "output_type": "stream",
     "text": [
      "Simulation Progress:  50%|█████     | 4/8 [00:11<00:11,  2.94s/it]"
     ]
    },
    {
     "name": "stdout",
     "output_type": "stream",
     "text": [
      "Time step 4: 4 True Price products available.\n"
     ]
    },
    {
     "name": "stderr",
     "output_type": "stream",
     "text": [
      "Simulation Progress:  62%|██████▎   | 5/8 [00:14<00:08,  2.93s/it]"
     ]
    },
    {
     "name": "stdout",
     "output_type": "stream",
     "text": [
      "Time step 5: 6 True Price products available.\n"
     ]
    },
    {
     "name": "stderr",
     "output_type": "stream",
     "text": [
      "Simulation Progress:  75%|███████▌  | 6/8 [00:17<00:05,  2.93s/it]"
     ]
    },
    {
     "name": "stdout",
     "output_type": "stream",
     "text": [
      "Time step 6: 8 True Price products available.\n"
     ]
    },
    {
     "name": "stderr",
     "output_type": "stream",
     "text": [
      "Simulation Progress:  88%|████████▊ | 7/8 [00:20<00:02,  2.95s/it]"
     ]
    },
    {
     "name": "stdout",
     "output_type": "stream",
     "text": [
      "Time step 7: 10 True Price products available.\n"
     ]
    },
    {
     "name": "stderr",
     "output_type": "stream",
     "text": [
      "Simulation Progress: 100%|██████████| 8/8 [00:23<00:00,  2.94s/it]\n",
      "Simulation Progress:  38%|███▊      | 3/8 [00:08<00:14,  2.91s/it]"
     ]
    },
    {
     "name": "stdout",
     "output_type": "stream",
     "text": [
      "Time step 3: 2 True Price products available.\n"
     ]
    },
    {
     "name": "stderr",
     "output_type": "stream",
     "text": [
      "Simulation Progress:  50%|█████     | 4/8 [00:11<00:11,  2.90s/it]"
     ]
    },
    {
     "name": "stdout",
     "output_type": "stream",
     "text": [
      "Time step 4: 4 True Price products available.\n"
     ]
    },
    {
     "name": "stderr",
     "output_type": "stream",
     "text": [
      "Simulation Progress:  62%|██████▎   | 5/8 [00:14<00:08,  2.90s/it]"
     ]
    },
    {
     "name": "stdout",
     "output_type": "stream",
     "text": [
      "Time step 5: 6 True Price products available.\n"
     ]
    },
    {
     "name": "stderr",
     "output_type": "stream",
     "text": [
      "Simulation Progress:  75%|███████▌  | 6/8 [00:17<00:05,  2.90s/it]"
     ]
    },
    {
     "name": "stdout",
     "output_type": "stream",
     "text": [
      "Time step 6: 8 True Price products available.\n"
     ]
    },
    {
     "name": "stderr",
     "output_type": "stream",
     "text": [
      "Simulation Progress:  88%|████████▊ | 7/8 [00:20<00:02,  2.90s/it]"
     ]
    },
    {
     "name": "stdout",
     "output_type": "stream",
     "text": [
      "Time step 7: 10 True Price products available.\n"
     ]
    },
    {
     "name": "stderr",
     "output_type": "stream",
     "text": [
      "Simulation Progress: 100%|██████████| 8/8 [00:23<00:00,  2.91s/it]\n",
      "Simulation Progress:  38%|███▊      | 3/8 [00:08<00:14,  2.92s/it]"
     ]
    },
    {
     "name": "stdout",
     "output_type": "stream",
     "text": [
      "Time step 3: 2 True Price products available.\n"
     ]
    },
    {
     "name": "stderr",
     "output_type": "stream",
     "text": [
      "Simulation Progress:  50%|█████     | 4/8 [00:11<00:11,  2.92s/it]"
     ]
    },
    {
     "name": "stdout",
     "output_type": "stream",
     "text": [
      "Time step 4: 4 True Price products available.\n"
     ]
    },
    {
     "name": "stderr",
     "output_type": "stream",
     "text": [
      "Simulation Progress:  62%|██████▎   | 5/8 [00:14<00:08,  2.91s/it]"
     ]
    },
    {
     "name": "stdout",
     "output_type": "stream",
     "text": [
      "Time step 5: 6 True Price products available.\n"
     ]
    },
    {
     "name": "stderr",
     "output_type": "stream",
     "text": [
      "Simulation Progress:  75%|███████▌  | 6/8 [00:17<00:05,  2.91s/it]"
     ]
    },
    {
     "name": "stdout",
     "output_type": "stream",
     "text": [
      "Time step 6: 8 True Price products available.\n"
     ]
    },
    {
     "name": "stderr",
     "output_type": "stream",
     "text": [
      "Simulation Progress:  88%|████████▊ | 7/8 [00:20<00:02,  2.92s/it]"
     ]
    },
    {
     "name": "stdout",
     "output_type": "stream",
     "text": [
      "Time step 7: 10 True Price products available.\n"
     ]
    },
    {
     "name": "stderr",
     "output_type": "stream",
     "text": [
      "Simulation Progress: 100%|██████████| 8/8 [00:23<00:00,  2.92s/it]\n"
     ]
    },
    {
     "data": {
      "image/png": "[encoded data removed]",
      "text/plain": [
       "<Figure size 1000x600 with 1 Axes>"
      ]
     },
     "metadata": {},
     "output_type": "display_data"
    },
    {
     "name": "stdout",
     "output_type": "stream",
     "text": [
      "Running simulations for Holme-Kim network...\n"
     ]
    },
    {
     "name": "stderr",
     "output_type": "stream",
     "text": [
      "Simulation Progress:  38%|███▊      | 3/8 [00:09<00:16,  3.28s/it]"
     ]
    },
    {
     "name": "stdout",
     "output_type": "stream",
     "text": [
      "Time step 3: 2 True Price products available.\n"
     ]
    },
    {
     "name": "stderr",
     "output_type": "stream",
     "text": [
      "Simulation Progress:  50%|█████     | 4/8 [00:13<00:13,  3.28s/it]"
     ]
    },
    {
     "name": "stdout",
     "output_type": "stream",
     "text": [
      "Time step 4: 4 True Price products available.\n"
     ]
    },
    {
     "name": "stderr",
     "output_type": "stream",
     "text": [
      "Simulation Progress:  62%|██████▎   | 5/8 [00:16<00:09,  3.28s/it]"
     ]
    },
    {
     "name": "stdout",
     "output_type": "stream",
     "text": [
      "Time step 5: 6 True Price products available.\n"
     ]
    },
    {
     "name": "stderr",
     "output_type": "stream",
     "text": [
      "Simulation Progress:  75%|███████▌  | 6/8 [00:19<00:06,  3.28s/it]"
     ]
    },
    {
     "name": "stdout",
     "output_type": "stream",
     "text": [
      "Time step 6: 8 True Price products available.\n"
     ]
    },
    {
     "name": "stderr",
     "output_type": "stream",
     "text": [
      "Simulation Progress:  88%|████████▊ | 7/8 [00:23<00:03,  3.29s/it]"
     ]
    },
    {
     "name": "stdout",
     "output_type": "stream",
     "text": [
      "Time step 7: 10 True Price products available.\n"
     ]
    },
    {
     "name": "stderr",
     "output_type": "stream",
     "text": [
      "Simulation Progress: 100%|██████████| 8/8 [00:26<00:00,  3.28s/it]\n",
      "Simulation Progress:  38%|███▊      | 3/8 [00:09<00:16,  3.28s/it]"
     ]
    },
    {
     "name": "stdout",
     "output_type": "stream",
     "text": [
      "Time step 3: 2 True Price products available.\n"
     ]
    },
    {
     "name": "stderr",
     "output_type": "stream",
     "text": [
      "Simulation Progress:  50%|█████     | 4/8 [00:13<00:13,  3.28s/it]"
     ]
    },
    {
     "name": "stdout",
     "output_type": "stream",
     "text": [
      "Time step 4: 4 True Price products available.\n"
     ]
    },
    {
     "name": "stderr",
     "output_type": "stream",
     "text": [
      "Simulation Progress:  62%|██████▎   | 5/8 [00:16<00:09,  3.27s/it]"
     ]
    },
    {
     "name": "stdout",
     "output_type": "stream",
     "text": [
      "Time step 5: 6 True Price products available.\n"
     ]
    },
    {
     "name": "stderr",
     "output_type": "stream",
     "text": [
      "Simulation Progress:  75%|███████▌  | 6/8 [00:19<00:06,  3.28s/it]"
     ]
    },
    {
     "name": "stdout",
     "output_type": "stream",
     "text": [
      "Time step 6: 8 True Price products available.\n"
     ]
    },
    {
     "name": "stderr",
     "output_type": "stream",
     "text": [
      "Simulation Progress:  88%|████████▊ | 7/8 [00:22<00:03,  3.28s/it]"
     ]
    },
    {
     "name": "stdout",
     "output_type": "stream",
     "text": [
      "Time step 7: 10 True Price products available.\n"
     ]
    },
    {
     "name": "stderr",
     "output_type": "stream",
     "text": [
      "Simulation Progress: 100%|██████████| 8/8 [00:26<00:00,  3.28s/it]\n",
      "Simulation Progress:  38%|███▊      | 3/8 [00:09<00:16,  3.28s/it]"
     ]
    },
    {
     "name": "stdout",
     "output_type": "stream",
     "text": [
      "Time step 3: 2 True Price products available.\n"
     ]
    },
    {
     "name": "stderr",
     "output_type": "stream",
     "text": [
      "Simulation Progress:  50%|█████     | 4/8 [00:13<00:13,  3.27s/it]"
     ]
    },
    {
     "name": "stdout",
     "output_type": "stream",
     "text": [
      "Time step 4: 4 True Price products available.\n"
     ]
    },
    {
     "name": "stderr",
     "output_type": "stream",
     "text": [
      "Simulation Progress:  62%|██████▎   | 5/8 [00:16<00:09,  3.27s/it]"
     ]
    },
    {
     "name": "stdout",
     "output_type": "stream",
     "text": [
      "Time step 5: 6 True Price products available.\n"
     ]
    },
    {
     "name": "stderr",
     "output_type": "stream",
     "text": [
      "Simulation Progress:  75%|███████▌  | 6/8 [00:19<00:06,  3.27s/it]"
     ]
    },
    {
     "name": "stdout",
     "output_type": "stream",
     "text": [
      "Time step 6: 8 True Price products available.\n"
     ]
    },
    {
     "name": "stderr",
     "output_type": "stream",
     "text": [
      "Simulation Progress:  88%|████████▊ | 7/8 [00:22<00:03,  3.28s/it]"
     ]
    },
    {
     "name": "stdout",
     "output_type": "stream",
     "text": [
      "Time step 7: 10 True Price products available.\n"
     ]
    },
    {
     "name": "stderr",
     "output_type": "stream",
     "text": [
      "Simulation Progress: 100%|██████████| 8/8 [00:26<00:00,  3.28s/it]\n",
      "Simulation Progress:  38%|███▊      | 3/8 [00:09<00:16,  3.27s/it]"
     ]
    },
    {
     "name": "stdout",
     "output_type": "stream",
     "text": [
      "Time step 3: 2 True Price products available.\n"
     ]
    },
    {
     "name": "stderr",
     "output_type": "stream",
     "text": [
      "Simulation Progress:  50%|█████     | 4/8 [00:13<00:13,  3.26s/it]"
     ]
    },
    {
     "name": "stdout",
     "output_type": "stream",
     "text": [
      "Time step 4: 4 True Price products available.\n"
     ]
    },
    {
     "name": "stderr",
     "output_type": "stream",
     "text": [
      "Simulation Progress:  62%|██████▎   | 5/8 [00:16<00:09,  3.27s/it]"
     ]
    },
    {
     "name": "stdout",
     "output_type": "stream",
     "text": [
      "Time step 5: 6 True Price products available.\n"
     ]
    },
    {
     "name": "stderr",
     "output_type": "stream",
     "text": [
      "Simulation Progress:  75%|███████▌  | 6/8 [00:19<00:06,  3.27s/it]"
     ]
    },
    {
     "name": "stdout",
     "output_type": "stream",
     "text": [
      "Time step 6: 8 True Price products available.\n"
     ]
    },
    {
     "name": "stderr",
     "output_type": "stream",
     "text": [
      "Simulation Progress:  88%|████████▊ | 7/8 [00:22<00:03,  3.27s/it]"
     ]
    },
    {
     "name": "stdout",
     "output_type": "stream",
     "text": [
      "Time step 7: 10 True Price products available.\n"
     ]
    },
    {
     "name": "stderr",
     "output_type": "stream",
     "text": [
      "Simulation Progress: 100%|██████████| 8/8 [00:26<00:00,  3.27s/it]\n",
      "Simulation Progress:  38%|███▊      | 3/8 [00:09<00:16,  3.30s/it]"
     ]
    },
    {
     "name": "stdout",
     "output_type": "stream",
     "text": [
      "Time step 3: 2 True Price products available.\n"
     ]
    },
    {
     "name": "stderr",
     "output_type": "stream",
     "text": [
      "Simulation Progress:  50%|█████     | 4/8 [00:13<00:13,  3.29s/it]"
     ]
    },
    {
     "name": "stdout",
     "output_type": "stream",
     "text": [
      "Time step 4: 4 True Price products available.\n"
     ]
    },
    {
     "name": "stderr",
     "output_type": "stream",
     "text": [
      "Simulation Progress:  62%|██████▎   | 5/8 [00:16<00:09,  3.29s/it]"
     ]
    },
    {
     "name": "stdout",
     "output_type": "stream",
     "text": [
      "Time step 5: 6 True Price products available.\n"
     ]
    },
    {
     "name": "stderr",
     "output_type": "stream",
     "text": [
      "Simulation Progress:  75%|███████▌  | 6/8 [00:19<00:06,  3.29s/it]"
     ]
    },
    {
     "name": "stdout",
     "output_type": "stream",
     "text": [
      "Time step 6: 8 True Price products available.\n"
     ]
    },
    {
     "name": "stderr",
     "output_type": "stream",
     "text": [
      "Simulation Progress:  88%|████████▊ | 7/8 [00:23<00:03,  3.30s/it]"
     ]
    },
    {
     "name": "stdout",
     "output_type": "stream",
     "text": [
      "Time step 7: 10 True Price products available.\n"
     ]
    },
    {
     "name": "stderr",
     "output_type": "stream",
     "text": [
      "Simulation Progress: 100%|██████████| 8/8 [00:26<00:00,  3.32s/it]\n",
      "Simulation Progress:  38%|███▊      | 3/8 [00:10<00:17,  3.42s/it]"
     ]
    },
    {
     "name": "stdout",
     "output_type": "stream",
     "text": [
      "Time step 3: 2 True Price products available.\n"
     ]
    },
    {
     "name": "stderr",
     "output_type": "stream",
     "text": [
      "Simulation Progress:  50%|█████     | 4/8 [00:13<00:13,  3.38s/it]"
     ]
    },
    {
     "name": "stdout",
     "output_type": "stream",
     "text": [
      "Time step 4: 4 True Price products available.\n"
     ]
    },
    {
     "name": "stderr",
     "output_type": "stream",
     "text": [
      "Simulation Progress:  62%|██████▎   | 5/8 [00:17<00:10,  3.35s/it]"
     ]
    },
    {
     "name": "stdout",
     "output_type": "stream",
     "text": [
      "Time step 5: 6 True Price products available.\n"
     ]
    },
    {
     "name": "stderr",
     "output_type": "stream",
     "text": [
      "Simulation Progress:  75%|███████▌  | 6/8 [00:20<00:06,  3.32s/it]"
     ]
    },
    {
     "name": "stdout",
     "output_type": "stream",
     "text": [
      "Time step 6: 8 True Price products available.\n"
     ]
    },
    {
     "name": "stderr",
     "output_type": "stream",
     "text": [
      "Simulation Progress:  88%|████████▊ | 7/8 [00:23<00:03,  3.32s/it]"
     ]
    },
    {
     "name": "stdout",
     "output_type": "stream",
     "text": [
      "Time step 7: 10 True Price products available.\n"
     ]
    },
    {
     "name": "stderr",
     "output_type": "stream",
     "text": [
      "Simulation Progress: 100%|██████████| 8/8 [00:26<00:00,  3.37s/it]\n",
      "Simulation Progress:  38%|███▊      | 3/8 [00:09<00:16,  3.28s/it]"
     ]
    },
    {
     "name": "stdout",
     "output_type": "stream",
     "text": [
      "Time step 3: 2 True Price products available.\n"
     ]
    },
    {
     "name": "stderr",
     "output_type": "stream",
     "text": [
      "Simulation Progress:  50%|█████     | 4/8 [00:13<00:13,  3.27s/it]"
     ]
    },
    {
     "name": "stdout",
     "output_type": "stream",
     "text": [
      "Time step 4: 4 True Price products available.\n"
     ]
    },
    {
     "name": "stderr",
     "output_type": "stream",
     "text": [
      "Simulation Progress:  62%|██████▎   | 5/8 [00:16<00:09,  3.27s/it]"
     ]
    },
    {
     "name": "stdout",
     "output_type": "stream",
     "text": [
      "Time step 5: 6 True Price products available.\n"
     ]
    },
    {
     "name": "stderr",
     "output_type": "stream",
     "text": [
      "Simulation Progress:  75%|███████▌  | 6/8 [00:19<00:06,  3.27s/it]"
     ]
    },
    {
     "name": "stdout",
     "output_type": "stream",
     "text": [
      "Time step 6: 8 True Price products available.\n"
     ]
    },
    {
     "name": "stderr",
     "output_type": "stream",
     "text": [
      "Simulation Progress:  88%|████████▊ | 7/8 [00:22<00:03,  3.28s/it]"
     ]
    },
    {
     "name": "stdout",
     "output_type": "stream",
     "text": [
      "Time step 7: 10 True Price products available.\n"
     ]
    },
    {
     "name": "stderr",
     "output_type": "stream",
     "text": [
      "Simulation Progress: 100%|██████████| 8/8 [00:26<00:00,  3.28s/it]\n",
      "Simulation Progress:  38%|███▊      | 3/8 [00:09<00:16,  3.29s/it]"
     ]
    },
    {
     "name": "stdout",
     "output_type": "stream",
     "text": [
      "Time step 3: 2 True Price products available.\n"
     ]
    },
    {
     "name": "stderr",
     "output_type": "stream",
     "text": [
      "Simulation Progress:  50%|█████     | 4/8 [00:13<00:13,  3.29s/it]"
     ]
    },
    {
     "name": "stdout",
     "output_type": "stream",
     "text": [
      "Time step 4: 4 True Price products available.\n"
     ]
    },
    {
     "name": "stderr",
     "output_type": "stream",
     "text": [
      "Simulation Progress:  62%|██████▎   | 5/8 [00:16<00:09,  3.28s/it]"
     ]
    },
    {
     "name": "stdout",
     "output_type": "stream",
     "text": [
      "Time step 5: 6 True Price products available.\n"
     ]
    },
    {
     "name": "stderr",
     "output_type": "stream",
     "text": [
      "Simulation Progress:  75%|███████▌  | 6/8 [00:19<00:06,  3.28s/it]"
     ]
    },
    {
     "name": "stdout",
     "output_type": "stream",
     "text": [
      "Time step 6: 8 True Price products available.\n"
     ]
    },
    {
     "name": "stderr",
     "output_type": "stream",
     "text": [
      "Simulation Progress:  88%|████████▊ | 7/8 [00:23<00:03,  3.29s/it]"
     ]
    },
    {
     "name": "stdout",
     "output_type": "stream",
     "text": [
      "Time step 7: 10 True Price products available.\n"
     ]
    },
    {
     "name": "stderr",
     "output_type": "stream",
     "text": [
      "Simulation Progress: 100%|██████████| 8/8 [00:26<00:00,  3.29s/it]\n",
      "Simulation Progress:  38%|███▊      | 3/8 [00:09<00:16,  3.27s/it]"
     ]
    },
    {
     "name": "stdout",
     "output_type": "stream",
     "text": [
      "Time step 3: 2 True Price products available.\n"
     ]
    },
    {
     "name": "stderr",
     "output_type": "stream",
     "text": [
      "Simulation Progress:  50%|█████     | 4/8 [00:13<00:13,  3.27s/it]"
     ]
    },
    {
     "name": "stdout",
     "output_type": "stream",
     "text": [
      "Time step 4: 4 True Price products available.\n"
     ]
    },
    {
     "name": "stderr",
     "output_type": "stream",
     "text": [
      "Simulation Progress:  62%|██████▎   | 5/8 [00:16<00:09,  3.27s/it]"
     ]
    },
    {
     "name": "stdout",
     "output_type": "stream",
     "text": [
      "Time step 5: 6 True Price products available.\n"
     ]
    },
    {
     "name": "stderr",
     "output_type": "stream",
     "text": [
      "Simulation Progress:  75%|███████▌  | 6/8 [00:19<00:06,  3.27s/it]"
     ]
    },
    {
     "name": "stdout",
     "output_type": "stream",
     "text": [
      "Time step 6: 8 True Price products available.\n"
     ]
    },
    {
     "name": "stderr",
     "output_type": "stream",
     "text": [
      "Simulation Progress:  88%|████████▊ | 7/8 [00:22<00:03,  3.28s/it]"
     ]
    },
    {
     "name": "stdout",
     "output_type": "stream",
     "text": [
      "Time step 7: 10 True Price products available.\n"
     ]
    },
    {
     "name": "stderr",
     "output_type": "stream",
     "text": [
      "Simulation Progress: 100%|██████████| 8/8 [00:26<00:00,  3.28s/it]\n",
      "Simulation Progress:  38%|███▊      | 3/8 [00:09<00:16,  3.29s/it]"
     ]
    },
    {
     "name": "stdout",
     "output_type": "stream",
     "text": [
      "Time step 3: 2 True Price products available.\n"
     ]
    },
    {
     "name": "stderr",
     "output_type": "stream",
     "text": [
      "Simulation Progress:  50%|█████     | 4/8 [00:13<00:13,  3.28s/it]"
     ]
    },
    {
     "name": "stdout",
     "output_type": "stream",
     "text": [
      "Time step 4: 4 True Price products available.\n"
     ]
    },
    {
     "name": "stderr",
     "output_type": "stream",
     "text": [
      "Simulation Progress:  62%|██████▎   | 5/8 [00:16<00:09,  3.27s/it]"
     ]
    },
    {
     "name": "stdout",
     "output_type": "stream",
     "text": [
      "Time step 5: 6 True Price products available.\n"
     ]
    },
    {
     "name": "stderr",
     "output_type": "stream",
     "text": [
      "Simulation Progress:  75%|███████▌  | 6/8 [00:19<00:06,  3.27s/it]"
     ]
    },
    {
     "name": "stdout",
     "output_type": "stream",
     "text": [
      "Time step 6: 8 True Price products available.\n"
     ]
    },
    {
     "name": "stderr",
     "output_type": "stream",
     "text": [
      "Simulation Progress:  88%|████████▊ | 7/8 [00:22<00:03,  3.28s/it]"
     ]
    },
    {
     "name": "stdout",
     "output_type": "stream",
     "text": [
      "Time step 7: 10 True Price products available.\n"
     ]
    },
    {
     "name": "stderr",
     "output_type": "stream",
     "text": [
      "Simulation Progress: 100%|██████████| 8/8 [00:26<00:00,  3.28s/it]\n"
     ]
    },
    {
     "data": {
      "image/png": "[encoded data removed]",
      "text/plain": [
       "<Figure size 1000x600 with 1 Axes>"
      ]
     },
     "metadata": {},
     "output_type": "display_data"
    }
   ],
   "source": [
    "num_simulations = 10\n",
    "num_steps = 8\n",
    "\n",
    "results = run_all_simulations(network_configurations, num_steps, num_simulations)"
   ]
  },
  {
   "cell_type": "markdown",
   "metadata": {},
   "source": [
    "## Global Sensitivity Analysis\n",
    "\n",
    "Sobol indices\n",
    "\n",
    "Saltelli sampling\n",
    "\n",
    "Pick key parameters (e.g. alpha, beta, rewiring probability) and key measures (true price adoption rate...)"
   ]
  },
  {
   "cell_type": "markdown",
   "metadata": {},
   "source": [
    "### Sensitivity Analysis"
   ]
  },
  {
   "cell_type": "code",
   "execution_count": 12,
   "metadata": {},
   "outputs": [],
   "source": [
    "from SALib.sample import saltelli\n",
    "from SALib.analyze import sobol\n",
    "import numpy as np\n",
    "import pandas as pd\n",
    "from tqdm import tqdm\n",
    "import matplotlib.pyplot as plt\n",
    "\n",
    "base_config = {\n",
    "    'TP_percentage': 0.7,\n",
    "    'tp_introduction_rate': 0.1,\n",
    "    'satisfaction_threshold': 0.5,\n",
    "    'uncertainty_threshold': 0.5,\n",
    "    'product_price_range': (5, 10),\n",
    "    'min_increase_percentage': 4,\n",
    "    'max_increase_percentage': 10,\n",
    "    'num_products': 20,\n",
    "    'inflation_rate': 3,\n",
    "    'epsilon': 0.5,\n",
    "    'comparison_attributes': ['budget', 'preference_sustainability', 'preference_conformity'],\n",
    "    'seed': 42  \n",
    "}\n",
    "\n",
    "# Configuration for Watts-Strogatz network\n",
    "watts_strogatz_config = base_config.copy()\n",
    "watts_strogatz_config.update({\n",
    "    'network_type': 'watts_strogatz',\n",
    "    'network_params': {\n",
    "        'n': 1600,\n",
    "        'k': 8,\n",
    "        'p': 0.3\n",
    "    }\n",
    "})\n",
    "\n",
    "\n",
    "# Configuration for Barabasi-Albert network\n",
    "barabasi_albert_config = base_config.copy()\n",
    "barabasi_albert_config.update({\n",
    "    'network_type': 'barabasi_albert',\n",
    "    'network_params': {\n",
    "        'n': 1600,\n",
    "        'm': 8\n",
    "    }\n",
    "})\n",
    "\n",
    "# Configuration for Random Regular network\n",
    "random_regular_config = base_config.copy()\n",
    "random_regular_config.update({\n",
    "    'network_type': 'random_regular',\n",
    "    'network_params': {\n",
    "        'n': 1600,\n",
    "        'd': 8\n",
    "    }\n",
    "})\n",
    "\n",
    "# Configuration for Holme-Kim network\n",
    "holme_kim_config = base_config.copy()\n",
    "holme_kim_config.update({\n",
    "    'network_type': 'holme_kim',\n",
    "    'network_params': {\n",
    "        'n': 1600,\n",
    "        'm': 8,\n",
    "        'p': 0.3\n",
    "    }\n",
    "})\n",
    "\n",
    "\n",
    "network_configs = {\n",
    "    #'Watts-Strogatz': watts_strogatz_config,\n",
    "    #'Barabasi-Albert': barabasi_albert_config,\n",
    "    #'Random Regular': random_regular_config,\n",
    "    'Holme-Kim': holme_kim_config\n",
    "}\n",
    "\n",
    "network_configurations = {\n",
    "    #'Watts-Strogatz': watts_strogatz_config,\n",
    "    #'Barabasi-Albert': barabasi_albert_config,\n",
    "    #'Random Regular': random_regular_config,\n",
    "    'Holme-Kim': holme_kim_config\n",
    "}\n",
    "\n",
    "network_problems = {\n",
    "    'Watts-Strogatz': {\n",
    "        'num_vars': 9,\n",
    "        'names': ['TP_percentage', 'satisfaction_threshold', 'uncertainty_threshold', 'epsilon', 'min_increase_percentage','max_increase_percentage', 'k', 'p', 'tp_introduction_rate'],\n",
    "        'bounds': [[0, 1], [0, 1], [0, 1], [0,1], [1,10], [11,20], [2, 10], [0, 1], [0,1]] \n",
    "    },\n",
    "    'Barabasi-Albert': {\n",
    "        'num_vars': 8,\n",
    "        'names': ['TP_percentage', 'satisfaction_threshold', 'uncertainty_threshold','epsilon','min_increase_percentage', 'max_increase_percentage', 'm', 'tp_introduction_rate'],\n",
    "        'bounds': [[0, 1], [0, 1], [0, 1], [0,1],[1,10], [11,20],[2, 10], [0,1]]  \n",
    "    },\n",
    "    'Random Regular': {\n",
    "        'num_vars': 8,\n",
    "        'names': ['TP_percentage', 'satisfaction_threshold', 'uncertainty_threshold', 'epsilon','min_increase_percentage','max_increase_percentage','d', 'tp_introduction_rate'],\n",
    "        'bounds': [[0, 1], [0, 1], [0, 1], [0,1],[1,10], [11,20],[2, 10], [0,1]]  \n",
    "    },\n",
    "    'Holme-Kim': {\n",
    "        'num_vars': 9,\n",
    "        'names': ['TP_percentage', 'satisfaction_threshold', 'uncertainty_threshold', 'epsilon','min_increase_percentage','max_increase_percentage','m', 'p', 'tp_introduction_rate'],\n",
    "        'bounds': [[0, 1], [0, 1], [0, 1],[0,1], [1,10], [11,20],[2, 10], [0, 1], [0,1]] \n",
    "    }\n",
    "}"
   ]
  },
  {
   "cell_type": "code",
   "execution_count": 13,
   "metadata": {},
   "outputs": [
    {
     "name": "stderr",
     "output_type": "stream",
     "text": [
      "/var/folders/53/cl5y6r2x7n5_942j6h59yyh00000gn/T/ipykernel_6592/3049819496.py:7: DeprecationWarning: `salib.sample.saltelli` will be removed in SALib 1.5. Please use `salib.sample.sobol`\n",
      "  samples[network_name] = saltelli.sample(problem, num_samples)\n"
     ]
    }
   ],
   "source": [
    "num_samples = 256\n",
    "\n",
    "samples = {}\n",
    "for network_name, problem in network_problems.items():\n",
    "    samples[network_name] = saltelli.sample(problem, num_samples)\n"
   ]
  },
  {
   "cell_type": "code",
   "execution_count": 14,
   "metadata": {},
   "outputs": [
    {
     "name": "stdout",
     "output_type": "stream",
     "text": [
      "Running GSA for Holme-Kim network...\n"
     ]
    },
    {
     "name": "stderr",
     "output_type": "stream",
     "text": []
    },
    {
     "ename": "KeyboardInterrupt",
     "evalue": "",
     "output_type": "error",
     "traceback": [
      "\u001b[0;31m---------------------------------------------------------------------------\u001b[0m",
      "\u001b[0;31mKeyboardInterrupt\u001b[0m                         Traceback (most recent call last)",
      "Cell \u001b[0;32mIn[14], line 84\u001b[0m\n\u001b[1;32m     82\u001b[0m config \u001b[39m=\u001b[39m base_config\u001b[39m.\u001b[39mcopy()\n\u001b[1;32m     83\u001b[0m config\u001b[39m.\u001b[39mupdate(network_configs[network_name])\n\u001b[0;32m---> 84\u001b[0m all_results \u001b[39m=\u001b[39m run_gsa_simulation_parallel(network_name, config, samples[network_name], num_steps)\n\u001b[1;32m     86\u001b[0m results \u001b[39m=\u001b[39m {}\n\u001b[1;32m     88\u001b[0m \u001b[39m# Perform Sobol sensitivity analysis\u001b[39;00m\n",
      "Cell \u001b[0;32mIn[14], line 71\u001b[0m, in \u001b[0;36mrun_gsa_simulation_parallel\u001b[0;34m(network_name, config, samples, num_steps, n_jobs)\u001b[0m\n\u001b[1;32m     70\u001b[0m \u001b[39mdef\u001b[39;00m \u001b[39mrun_gsa_simulation_parallel\u001b[39m(network_name, config, samples, num_steps, n_jobs\u001b[39m=\u001b[39m\u001b[39m-\u001b[39m\u001b[39m1\u001b[39m):\n\u001b[0;32m---> 71\u001b[0m     all_results \u001b[39m=\u001b[39m Parallel(n_jobs\u001b[39m=\u001b[39;49mn_jobs)(\n\u001b[1;32m     72\u001b[0m         delayed(run_single_simulation)(params, config, network_name, num_steps)\n\u001b[1;32m     73\u001b[0m         \u001b[39mfor\u001b[39;49;00m params \u001b[39min\u001b[39;49;00m tqdm(samples, desc\u001b[39m=\u001b[39;49m\u001b[39mf\u001b[39;49m\u001b[39m'\u001b[39;49m\u001b[39mRunning simulations for \u001b[39;49m\u001b[39m{\u001b[39;49;00mnetwork_name\u001b[39m}\u001b[39;49;00m\u001b[39m'\u001b[39;49m)\n\u001b[1;32m     74\u001b[0m     )\n\u001b[1;32m     75\u001b[0m     \u001b[39mreturn\u001b[39;00m np\u001b[39m.\u001b[39marray(all_results)\n",
      "File \u001b[0;32m~/opt/anaconda3/envs/thesisenv/lib/python3.9/site-packages/joblib/parallel.py:1952\u001b[0m, in \u001b[0;36mParallel.__call__\u001b[0;34m(self, iterable)\u001b[0m\n\u001b[1;32m   1946\u001b[0m \u001b[39m# The first item from the output is blank, but it makes the interpreter\u001b[39;00m\n\u001b[1;32m   1947\u001b[0m \u001b[39m# progress until it enters the Try/Except block of the generator and\u001b[39;00m\n\u001b[1;32m   1948\u001b[0m \u001b[39m# reach the first `yield` statement. This starts the aynchronous\u001b[39;00m\n\u001b[1;32m   1949\u001b[0m \u001b[39m# dispatch of the tasks to the workers.\u001b[39;00m\n\u001b[1;32m   1950\u001b[0m \u001b[39mnext\u001b[39m(output)\n\u001b[0;32m-> 1952\u001b[0m \u001b[39mreturn\u001b[39;00m output \u001b[39mif\u001b[39;00m \u001b[39mself\u001b[39m\u001b[39m.\u001b[39mreturn_generator \u001b[39melse\u001b[39;00m \u001b[39mlist\u001b[39;49m(output)\n",
      "File \u001b[0;32m~/opt/anaconda3/envs/thesisenv/lib/python3.9/site-packages/joblib/parallel.py:1595\u001b[0m, in \u001b[0;36mParallel._get_outputs\u001b[0;34m(self, iterator, pre_dispatch)\u001b[0m\n\u001b[1;32m   1592\u001b[0m     \u001b[39myield\u001b[39;00m\n\u001b[1;32m   1594\u001b[0m     \u001b[39mwith\u001b[39;00m \u001b[39mself\u001b[39m\u001b[39m.\u001b[39m_backend\u001b[39m.\u001b[39mretrieval_context():\n\u001b[0;32m-> 1595\u001b[0m         \u001b[39myield from\u001b[39;00m \u001b[39mself\u001b[39m\u001b[39m.\u001b[39m_retrieve()\n\u001b[1;32m   1597\u001b[0m \u001b[39mexcept\u001b[39;00m \u001b[39mGeneratorExit\u001b[39;00m:\n\u001b[1;32m   1598\u001b[0m     \u001b[39m# The generator has been garbage collected before being fully\u001b[39;00m\n\u001b[1;32m   1599\u001b[0m     \u001b[39m# consumed. This aborts the remaining tasks if possible and warn\u001b[39;00m\n\u001b[1;32m   1600\u001b[0m     \u001b[39m# the user if necessary.\u001b[39;00m\n\u001b[1;32m   1601\u001b[0m     \u001b[39mself\u001b[39m\u001b[39m.\u001b[39m_exception \u001b[39m=\u001b[39m \u001b[39mTrue\u001b[39;00m\n",
      "File \u001b[0;32m~/opt/anaconda3/envs/thesisenv/lib/python3.9/site-packages/joblib/parallel.py:1707\u001b[0m, in \u001b[0;36mParallel._retrieve\u001b[0;34m(self)\u001b[0m\n\u001b[1;32m   1702\u001b[0m \u001b[39m# If the next job is not ready for retrieval yet, we just wait for\u001b[39;00m\n\u001b[1;32m   1703\u001b[0m \u001b[39m# async callbacks to progress.\u001b[39;00m\n\u001b[1;32m   1704\u001b[0m \u001b[39mif\u001b[39;00m ((\u001b[39mlen\u001b[39m(\u001b[39mself\u001b[39m\u001b[39m.\u001b[39m_jobs) \u001b[39m==\u001b[39m \u001b[39m0\u001b[39m) \u001b[39mor\u001b[39;00m\n\u001b[1;32m   1705\u001b[0m     (\u001b[39mself\u001b[39m\u001b[39m.\u001b[39m_jobs[\u001b[39m0\u001b[39m]\u001b[39m.\u001b[39mget_status(\n\u001b[1;32m   1706\u001b[0m         timeout\u001b[39m=\u001b[39m\u001b[39mself\u001b[39m\u001b[39m.\u001b[39mtimeout) \u001b[39m==\u001b[39m TASK_PENDING)):\n\u001b[0;32m-> 1707\u001b[0m     time\u001b[39m.\u001b[39;49msleep(\u001b[39m0.01\u001b[39;49m)\n\u001b[1;32m   1708\u001b[0m     \u001b[39mcontinue\u001b[39;00m\n\u001b[1;32m   1710\u001b[0m \u001b[39m# We need to be careful: the job list can be filling up as\u001b[39;00m\n\u001b[1;32m   1711\u001b[0m \u001b[39m# we empty it and Python list are not thread-safe by\u001b[39;00m\n\u001b[1;32m   1712\u001b[0m \u001b[39m# default hence the use of the lock\u001b[39;00m\n",
      "\u001b[0;31mKeyboardInterrupt\u001b[0m: "
     ]
    }
   ],
   "source": [
    "from joblib import Parallel, delayed\n",
    "import numpy as np\n",
    "import pandas as pd\n",
    "from tqdm import tqdm\n",
    "from SALib.sample import saltelli\n",
    "from SALib.analyze import sobol\n",
    "import json\n",
    "\n",
    "def collect_simulation_data(model, num_steps):\n",
    "    collected_data = {\n",
    "        'Step': [],\n",
    "        'Adoption Rate': [],\n",
    "        'Avg_F_Satisfaction': [],\n",
    "        'Avg_S_Satisfaction': [],\n",
    "        'Avg_P_Satisfaction': [],\n",
    "        'Avg_F_Uncertainty': [],\n",
    "        'Avg_S_Uncertainty': [],\n",
    "        'Avg_P_Uncertainty': []\n",
    "    }\n",
    "\n",
    "    for step in range(num_steps):\n",
    "        model.step()\n",
    "        collected_data['Step'].append(step)\n",
    "        collected_data['Adoption Rate'].append(model.calculate_true_price_adoption_rate())\n",
    "        collected_data['Avg_F_Satisfaction'].append(np.mean([agent.F_satisfaction for agent in model.schedule.agents]))\n",
    "        collected_data['Avg_S_Satisfaction'].append(np.mean([agent.S_satisfaction for agent in model.schedule.agents]))\n",
    "        collected_data['Avg_P_Satisfaction'].append(np.mean([agent.P_satisfaction for agent in model.schedule.agents]))\n",
    "        collected_data['Avg_F_Uncertainty'].append(np.mean([agent.F_uncertainty for agent in model.schedule.agents]))\n",
    "        collected_data['Avg_S_Uncertainty'].append(np.mean([agent.S_uncertainty for agent in model.schedule.agents]))\n",
    "        collected_data['Avg_P_Uncertainty'].append(np.mean([agent.P_uncertainty for agent in model.schedule.agents]))\n",
    "\n",
    "    model_data = pd.DataFrame(collected_data)\n",
    "    return model_data\n",
    "\n",
    "def run_single_simulation(params, config, network_name, num_steps):\n",
    "    config = config.copy()\n",
    "    config['TP_percentage'] = params[0]\n",
    "    config['satisfaction_threshold'] = params[1]\n",
    "    config['uncertainty_threshold'] = params[2]\n",
    "    config['epsilon'] = params[3]\n",
    "    config['min_increase_percentage'] = params[4]\n",
    "    config['max_increase_percentage'] = params[5]\n",
    "    config['tp_introduction_rate'] = params[-1]\n",
    "\n",
    "    if network_name == 'Watts-Strogatz':\n",
    "        config['network_params']['k'] = int(params[6])\n",
    "        config['network_params']['p'] = params[7]\n",
    "    elif network_name == 'Barabasi-Albert':\n",
    "        config['network_params']['m'] = int(params[6])\n",
    "    elif network_name == 'Random Regular':\n",
    "        config['network_params']['d'] = int(params[6])\n",
    "    elif network_name == 'Holme-Kim':\n",
    "        config['network_params']['m'] = int(params[6])\n",
    "        config['network_params']['p'] = params[7]\n",
    "\n",
    "    model = ConsumatModel(config)\n",
    "    model_data = collect_simulation_data(model, num_steps)\n",
    "    final_step_data = model_data.iloc[-1]\n",
    "\n",
    "    return [\n",
    "        final_step_data['Adoption Rate'],\n",
    "        final_step_data['Avg_F_Satisfaction'],\n",
    "        final_step_data['Avg_S_Satisfaction'],\n",
    "        final_step_data['Avg_P_Satisfaction'],\n",
    "        final_step_data['Avg_F_Uncertainty'],\n",
    "        final_step_data['Avg_S_Uncertainty'],\n",
    "        final_step_data['Avg_P_Uncertainty']\n",
    "    ]\n",
    "\n",
    "def run_gsa_simulation_parallel(network_name, config, samples, num_steps, n_jobs=-1):\n",
    "    all_results = Parallel(n_jobs=n_jobs)(\n",
    "        delayed(run_single_simulation)(params, config, network_name, num_steps)\n",
    "        for params in tqdm(samples, desc=f'Running simulations for {network_name}')\n",
    "    )\n",
    "    return np.array(all_results)\n",
    "\n",
    "num_steps = 10\n",
    "\n",
    "for network_name, config in network_configurations.items():\n",
    "    print(f\"Running GSA for {network_name} network...\")\n",
    "    config = base_config.copy()\n",
    "    config.update(network_configs[network_name])\n",
    "    all_results = run_gsa_simulation_parallel(network_name, config, samples[network_name], num_steps)\n",
    "    \n",
    "    results = {}\n",
    "    \n",
    "    for i, output in enumerate(['Adoption Rate', 'Avg_F_Satisfaction', 'Avg_S_Satisfaction', 'Avg_P_Satisfaction', 'Avg_F_Uncertainty', 'Avg_S_Uncertainty', 'Avg_P_Uncertainty']):\n",
    "        Si = sobol.analyze(network_problems[network_name], all_results[:, i], print_to_console=True)\n",
    "        results[output] = {\n",
    "            'S1': Si['S1'].tolist(),\n",
    "            'ST': Si['ST'].tolist(),\n",
    "            'S2': Si['S2'].tolist()\n",
    "        }\n",
    "        print(f'Sensitivity analysis for {output} ({network_name} network):')\n",
    "        print(Si)\n",
    "    \n",
    "    with open(f'experiments_sensitivity_results_{network_name}.json', 'w') as f:\n",
    "        json.dump(results, f)\n"
   ]
  },
  {
   "cell_type": "code",
   "execution_count": 10,
   "metadata": {},
   "outputs": [
    {
     "name": "stdout",
     "output_type": "stream",
     "text": [
      "Generating phase diagram for Watts-Strogatz network...\n"
     ]
    },
    {
     "name": "stderr",
     "output_type": "stream",
     "text": [
      "Simulation Progress: 100%|██████████| 10/10 [00:19<00:00,  1.96s/it]\n",
      "Simulation Progress: 100%|██████████| 10/10 [00:19<00:00,  1.99s/it]\n",
      "Simulation Progress: 100%|██████████| 10/10 [00:18<00:00,  1.87s/it]\n",
      "Simulation Progress: 100%|██████████| 10/10 [00:18<00:00,  1.90s/it]\n",
      "Simulation Progress: 100%|██████████| 10/10 [00:18<00:00,  1.87s/it]\n",
      "Simulation Progress: 100%|██████████| 10/10 [00:18<00:00,  1.87s/it]\n",
      "Simulation Progress: 100%|██████████| 10/10 [00:19<00:00,  1.92s/it]\n",
      "Simulation Progress: 100%|██████████| 10/10 [00:18<00:00,  1.88s/it]\n",
      "Simulation Progress: 100%|██████████| 10/10 [00:18<00:00,  1.86s/it]\n",
      "Simulation Progress: 100%|██████████| 10/10 [00:18<00:00,  1.87s/it]\n",
      "Simulation Progress: 100%|██████████| 10/10 [00:18<00:00,  1.87s/it]\n",
      "Simulation Progress: 100%|██████████| 10/10 [00:18<00:00,  1.87s/it]\n",
      "Simulation Progress: 100%|██████████| 10/10 [00:18<00:00,  1.87s/it]\n",
      "Simulation Progress: 100%|██████████| 10/10 [00:18<00:00,  1.88s/it]\n",
      "Simulation Progress: 100%|██████████| 10/10 [00:18<00:00,  1.86s/it]\n",
      "Simulation Progress: 100%|██████████| 10/10 [00:18<00:00,  1.87s/it]\n",
      "Simulation Progress: 100%|██████████| 10/10 [00:18<00:00,  1.88s/it]\n",
      "Simulation Progress: 100%|██████████| 10/10 [00:18<00:00,  1.89s/it]\n",
      "Simulation Progress: 100%|██████████| 10/10 [00:18<00:00,  1.87s/it]\n",
      "Simulation Progress: 100%|██████████| 10/10 [00:18<00:00,  1.87s/it]\n",
      "Simulation Progress: 100%|██████████| 10/10 [00:18<00:00,  1.88s/it]\n",
      "Simulation Progress: 100%|██████████| 10/10 [00:18<00:00,  1.88s/it]\n",
      "Simulation Progress: 100%|██████████| 10/10 [00:18<00:00,  1.85s/it]\n",
      "Simulation Progress: 100%|██████████| 10/10 [00:18<00:00,  1.85s/it]\n",
      "Simulation Progress: 100%|██████████| 10/10 [00:18<00:00,  1.84s/it]\n",
      "Simulation Progress: 100%|██████████| 10/10 [00:18<00:00,  1.83s/it]\n",
      "Simulation Progress: 100%|██████████| 10/10 [00:18<00:00,  1.87s/it]\n",
      "Simulation Progress: 100%|██████████| 10/10 [00:18<00:00,  1.90s/it]\n",
      "Simulation Progress: 100%|██████████| 10/10 [00:18<00:00,  1.86s/it]\n",
      "Simulation Progress: 100%|██████████| 10/10 [00:18<00:00,  1.86s/it]\n",
      "Simulation Progress: 100%|██████████| 10/10 [00:18<00:00,  1.90s/it]\n",
      "Simulation Progress: 100%|██████████| 10/10 [00:18<00:00,  1.87s/it]\n",
      "Simulation Progress: 100%|██████████| 10/10 [00:18<00:00,  1.85s/it]\n",
      "Simulation Progress: 100%|██████████| 10/10 [00:18<00:00,  1.86s/it]\n",
      "Simulation Progress: 100%|██████████| 10/10 [00:18<00:00,  1.85s/it]\n",
      "Simulation Progress: 100%|██████████| 10/10 [00:18<00:00,  1.86s/it]\n",
      "Simulation Progress: 100%|██████████| 10/10 [00:18<00:00,  1.84s/it]\n",
      "Simulation Progress: 100%|██████████| 10/10 [00:18<00:00,  1.85s/it]\n",
      "Simulation Progress: 100%|██████████| 10/10 [00:18<00:00,  1.85s/it]\n",
      "Simulation Progress: 100%|██████████| 10/10 [00:18<00:00,  1.85s/it]\n",
      "Simulation Progress: 100%|██████████| 10/10 [00:18<00:00,  1.85s/it]\n",
      "Simulation Progress: 100%|██████████| 10/10 [00:18<00:00,  1.84s/it]\n",
      "Simulation Progress: 100%|██████████| 10/10 [00:18<00:00,  1.84s/it]\n",
      "Simulation Progress: 100%|██████████| 10/10 [00:18<00:00,  1.85s/it]\n",
      "Simulation Progress: 100%|██████████| 10/10 [00:18<00:00,  1.85s/it]\n",
      "Simulation Progress: 100%|██████████| 10/10 [00:18<00:00,  1.86s/it]\n",
      "Simulation Progress: 100%|██████████| 10/10 [00:18<00:00,  1.84s/it]\n",
      "Simulation Progress: 100%|██████████| 10/10 [00:18<00:00,  1.85s/it]\n",
      "Simulation Progress: 100%|██████████| 10/10 [00:18<00:00,  1.84s/it]\n",
      "Simulation Progress: 100%|██████████| 10/10 [00:18<00:00,  1.86s/it]\n",
      "Simulation Progress: 100%|██████████| 10/10 [00:18<00:00,  1.85s/it]\n",
      "Simulation Progress: 100%|██████████| 10/10 [00:18<00:00,  1.88s/it]\n",
      "Simulation Progress: 100%|██████████| 10/10 [00:18<00:00,  1.88s/it]\n",
      "Simulation Progress: 100%|██████████| 10/10 [00:20<00:00,  2.08s/it]\n",
      "Simulation Progress: 100%|██████████| 10/10 [00:18<00:00,  1.90s/it]\n",
      "Simulation Progress: 100%|██████████| 10/10 [00:18<00:00,  1.86s/it]\n",
      "Simulation Progress: 100%|██████████| 10/10 [00:18<00:00,  1.89s/it]\n",
      "Simulation Progress: 100%|██████████| 10/10 [00:18<00:00,  1.89s/it]\n",
      "Simulation Progress: 100%|██████████| 10/10 [00:18<00:00,  1.85s/it]\n",
      "Simulation Progress: 100%|██████████| 10/10 [00:19<00:00,  1.91s/it]\n",
      "Simulation Progress: 100%|██████████| 10/10 [00:21<00:00,  2.13s/it]\n",
      "Simulation Progress: 100%|██████████| 10/10 [00:31<00:00,  3.18s/it]\n",
      "Simulation Progress: 100%|██████████| 10/10 [00:31<00:00,  3.19s/it]\n",
      "Simulation Progress: 100%|██████████| 10/10 [00:31<00:00,  3.16s/it]\n",
      "Simulation Progress: 100%|██████████| 10/10 [00:32<00:00,  3.21s/it]\n",
      "Simulation Progress: 100%|██████████| 10/10 [00:23<00:00,  2.39s/it]\n",
      "Simulation Progress: 100%|██████████| 10/10 [00:19<00:00,  1.91s/it]\n",
      "Simulation Progress: 100%|██████████| 10/10 [00:18<00:00,  1.87s/it]\n",
      "Simulation Progress: 100%|██████████| 10/10 [00:18<00:00,  1.85s/it]\n",
      "Simulation Progress: 100%|██████████| 10/10 [00:18<00:00,  1.88s/it]\n",
      "Simulation Progress: 100%|██████████| 10/10 [00:18<00:00,  1.88s/it]\n",
      "Simulation Progress: 100%|██████████| 10/10 [00:18<00:00,  1.89s/it]\n",
      "Simulation Progress: 100%|██████████| 10/10 [00:18<00:00,  1.87s/it]\n",
      "Simulation Progress: 100%|██████████| 10/10 [00:18<00:00,  1.86s/it]\n",
      "Simulation Progress: 100%|██████████| 10/10 [00:18<00:00,  1.88s/it]\n",
      "Simulation Progress: 100%|██████████| 10/10 [00:18<00:00,  1.90s/it]\n",
      "Simulation Progress: 100%|██████████| 10/10 [00:18<00:00,  1.88s/it]\n",
      "Simulation Progress: 100%|██████████| 10/10 [00:18<00:00,  1.86s/it]\n",
      "Simulation Progress: 100%|██████████| 10/10 [00:18<00:00,  1.86s/it]\n",
      "Simulation Progress: 100%|██████████| 10/10 [00:18<00:00,  1.86s/it]\n",
      "Simulation Progress: 100%|██████████| 10/10 [00:18<00:00,  1.84s/it]\n",
      "Simulation Progress: 100%|██████████| 10/10 [00:19<00:00,  1.91s/it]\n",
      "Simulation Progress: 100%|██████████| 10/10 [00:18<00:00,  1.87s/it]\n",
      "Simulation Progress: 100%|██████████| 10/10 [00:18<00:00,  1.86s/it]\n",
      "Simulation Progress: 100%|██████████| 10/10 [00:18<00:00,  1.85s/it]\n",
      "Simulation Progress: 100%|██████████| 10/10 [00:18<00:00,  1.85s/it]\n",
      "Simulation Progress: 100%|██████████| 10/10 [00:18<00:00,  1.85s/it]\n",
      "Simulation Progress: 100%|██████████| 10/10 [00:18<00:00,  1.87s/it]\n",
      "Simulation Progress: 100%|██████████| 10/10 [00:18<00:00,  1.87s/it]\n",
      "Simulation Progress: 100%|██████████| 10/10 [00:18<00:00,  1.88s/it]\n",
      "Simulation Progress: 100%|██████████| 10/10 [00:18<00:00,  1.86s/it]\n",
      "Simulation Progress: 100%|██████████| 10/10 [00:18<00:00,  1.87s/it]\n",
      "Simulation Progress: 100%|██████████| 10/10 [00:18<00:00,  1.86s/it]\n",
      "Simulation Progress: 100%|██████████| 10/10 [00:18<00:00,  1.88s/it]\n",
      "Simulation Progress: 100%|██████████| 10/10 [00:18<00:00,  1.85s/it]\n",
      "Simulation Progress: 100%|██████████| 10/10 [00:18<00:00,  1.87s/it]\n",
      "Simulation Progress: 100%|██████████| 10/10 [00:18<00:00,  1.86s/it]\n",
      "Simulation Progress: 100%|██████████| 10/10 [00:18<00:00,  1.86s/it]\n",
      "Simulation Progress: 100%|██████████| 10/10 [00:18<00:00,  1.86s/it]\n",
      "Simulation Progress: 100%|██████████| 10/10 [00:18<00:00,  1.84s/it]\n"
     ]
    },
    {
     "data": {
      "image/png": "[encoded data removed]",
      "text/plain": [
       "<Figure size 640x480 with 2 Axes>"
      ]
     },
     "metadata": {},
     "output_type": "display_data"
    },
    {
     "name": "stdout",
     "output_type": "stream",
     "text": [
      "Generating phase diagram for Barabasi-Albert network...\n"
     ]
    },
    {
     "name": "stderr",
     "output_type": "stream",
     "text": [
      "Simulation Progress: 100%|██████████| 10/10 [00:19<00:00,  1.97s/it]\n",
      "Simulation Progress:  40%|████      | 4/10 [00:08<00:12,  2.05s/it]\n"
     ]
    },
    {
     "ename": "KeyboardInterrupt",
     "evalue": "",
     "output_type": "error",
     "traceback": [
      "\u001b[0;31m---------------------------------------------------------------------------\u001b[0m",
      "\u001b[0;31mKeyboardInterrupt\u001b[0m                         Traceback (most recent call last)",
      "Cell \u001b[0;32mIn[10], line 113\u001b[0m\n\u001b[1;32m    111\u001b[0m \u001b[39mfor\u001b[39;00m config_name, config \u001b[39min\u001b[39;00m network_configs\u001b[39m.\u001b[39mitems():\n\u001b[1;32m    112\u001b[0m     \u001b[39mprint\u001b[39m(\u001b[39mf\u001b[39m\u001b[39m\"\u001b[39m\u001b[39mGenerating phase diagram for \u001b[39m\u001b[39m{\u001b[39;00mconfig_name\u001b[39m}\u001b[39;00m\u001b[39m network...\u001b[39m\u001b[39m\"\u001b[39m)\n\u001b[0;32m--> 113\u001b[0m     plot_phase_diagram(config, param1_range, param2_range, num_steps)\n",
      "Cell \u001b[0;32mIn[10], line 92\u001b[0m, in \u001b[0;36mplot_phase_diagram\u001b[0;34m(config, param1_range, param2_range, num_steps)\u001b[0m\n\u001b[1;32m     91\u001b[0m \u001b[39mdef\u001b[39;00m \u001b[39mplot_phase_diagram\u001b[39m(config, param1_range, param2_range, num_steps):\n\u001b[0;32m---> 92\u001b[0m     data, labels \u001b[39m=\u001b[39m generate_phase_diagram_data(config, param1_range, param2_range, num_steps)\n\u001b[1;32m     93\u001b[0m     svm \u001b[39m=\u001b[39m make_pipeline(StandardScaler(), SVC(kernel\u001b[39m=\u001b[39m\u001b[39m'\u001b[39m\u001b[39mlinear\u001b[39m\u001b[39m'\u001b[39m))\n\u001b[1;32m     94\u001b[0m     svm\u001b[39m.\u001b[39mfit(data, labels)\n",
      "Cell \u001b[0;32mIn[10], line 85\u001b[0m, in \u001b[0;36mgenerate_phase_diagram_data\u001b[0;34m(config, param1_range, param2_range, num_steps)\u001b[0m\n\u001b[1;32m     83\u001b[0m config[\u001b[39m'\u001b[39m\u001b[39mtp_introduction_rate\u001b[39m\u001b[39m'\u001b[39m] \u001b[39m=\u001b[39m param2\n\u001b[1;32m     84\u001b[0m model \u001b[39m=\u001b[39m ConsumatModel(config)\n\u001b[0;32m---> 85\u001b[0m adoption_rate \u001b[39m=\u001b[39m run_simulation(model, num_steps)[\u001b[39m0\u001b[39m][\u001b[39m'\u001b[39m\u001b[39mAdoption Rates\u001b[39m\u001b[39m'\u001b[39m]\u001b[39m.\u001b[39miloc[\u001b[39m-\u001b[39m\u001b[39m1\u001b[39m]  \u001b[39m# Get final adoption rate\u001b[39;00m\n\u001b[1;32m     86\u001b[0m data\u001b[39m.\u001b[39mappend([param1, param2])\n\u001b[1;32m     87\u001b[0m labels\u001b[39m.\u001b[39mappend(adoption_rate \u001b[39m>\u001b[39m \u001b[39m50\u001b[39m)  \u001b[39m# Threshold for classification\u001b[39;00m\n",
      "Cell \u001b[0;32mIn[10], line 68\u001b[0m, in \u001b[0;36mrun_simulation\u001b[0;34m(model, num_steps)\u001b[0m\n\u001b[1;32m     66\u001b[0m adoption_rates \u001b[39m=\u001b[39m []\n\u001b[1;32m     67\u001b[0m \u001b[39mfor\u001b[39;00m _ \u001b[39min\u001b[39;00m tqdm(\u001b[39mrange\u001b[39m(num_steps), desc\u001b[39m=\u001b[39m\u001b[39m'\u001b[39m\u001b[39mSimulation Progress\u001b[39m\u001b[39m'\u001b[39m):\n\u001b[0;32m---> 68\u001b[0m     model\u001b[39m.\u001b[39;49mstep()\n\u001b[1;32m     69\u001b[0m     current_adoption_rate \u001b[39m=\u001b[39m model\u001b[39m.\u001b[39mcalculate_true_price_adoption_rate()\n\u001b[1;32m     70\u001b[0m     adoption_rates\u001b[39m.\u001b[39mappend(current_adoption_rate)\n",
      "File \u001b[0;32m/Applications/UNI/ThesisNew/Experiments/experiments_model_copy.py:638\u001b[0m, in \u001b[0;36mConsumatModel.step\u001b[0;34m(self)\u001b[0m\n\u001b[1;32m    635\u001b[0m \u001b[39mif\u001b[39;00m agents_without_products_post:\n\u001b[1;32m    636\u001b[0m     \u001b[39mprint\u001b[39m(\u001b[39mf\u001b[39m\u001b[39m\"\u001b[39m\u001b[39mIteration \u001b[39m\u001b[39m{\u001b[39;00m\u001b[39mself\u001b[39m\u001b[39m.\u001b[39mschedule\u001b[39m.\u001b[39msteps\u001b[39m}\u001b[39;00m\u001b[39m post step: \u001b[39m\u001b[39m{\u001b[39;00m\u001b[39mlen\u001b[39m(agents_without_products_post)\u001b[39m}\u001b[39;00m\u001b[39m agents without products\u001b[39m\u001b[39m\"\u001b[39m)\n\u001b[0;32m--> 638\u001b[0m \u001b[39mself\u001b[39;49m\u001b[39m.\u001b[39;49mdatacollector\u001b[39m.\u001b[39;49mcollect(\u001b[39mself\u001b[39;49m)\n\u001b[1;32m    640\u001b[0m adoption_rate \u001b[39m=\u001b[39m \u001b[39mself\u001b[39m\u001b[39m.\u001b[39mcalculate_true_price_adoption_rate()\n",
      "File \u001b[0;32m~/opt/anaconda3/envs/thesisenv/lib/python3.9/site-packages/mesa/datacollection.py:183\u001b[0m, in \u001b[0;36mDataCollector.collect\u001b[0;34m(self, model)\u001b[0m\n\u001b[1;32m    180\u001b[0m \u001b[39mfor\u001b[39;00m var, reporter \u001b[39min\u001b[39;00m \u001b[39mself\u001b[39m\u001b[39m.\u001b[39mmodel_reporters\u001b[39m.\u001b[39mitems():\n\u001b[1;32m    181\u001b[0m     \u001b[39m# Check if Lambda operator\u001b[39;00m\n\u001b[1;32m    182\u001b[0m     \u001b[39mif\u001b[39;00m \u001b[39misinstance\u001b[39m(reporter, types\u001b[39m.\u001b[39mLambdaType):\n\u001b[0;32m--> 183\u001b[0m         \u001b[39mself\u001b[39m\u001b[39m.\u001b[39mmodel_vars[var]\u001b[39m.\u001b[39mappend(reporter(model))\n\u001b[1;32m    184\u001b[0m     \u001b[39m# Check if model attribute\u001b[39;00m\n\u001b[1;32m    185\u001b[0m     \u001b[39melif\u001b[39;00m \u001b[39misinstance\u001b[39m(reporter, partial):\n",
      "File \u001b[0;32m/Applications/UNI/ThesisNew/Experiments/experiments_model_copy.py:440\u001b[0m, in \u001b[0;36mConsumatModel.__init__.<locals>.<lambda>\u001b[0;34m(model)\u001b[0m\n\u001b[1;32m    422\u001b[0m     \u001b[39mself\u001b[39m\u001b[39m.\u001b[39mplace_agents_on_grid()\n\u001b[1;32m    424\u001b[0m \u001b[39mself\u001b[39m\u001b[39m.\u001b[39mupdate_agents_neighbors()\n\u001b[1;32m    427\u001b[0m \u001b[39mself\u001b[39m\u001b[39m.\u001b[39mdatacollector \u001b[39m=\u001b[39m DataCollector(\n\u001b[1;32m    428\u001b[0m     model_reporters\u001b[39m=\u001b[39m{\n\u001b[1;32m    429\u001b[0m         \u001b[39m#\"Min_Satisfaction\": lambda model: min(agent.is_satisfied() for agent in model.schedule.agents),\u001b[39;00m\n\u001b[1;32m    430\u001b[0m         \u001b[39m#\"Max_Satisfaction\": lambda model: max(agent.is_satisfied() for agent in model.schedule.agents),\u001b[39;00m\n\u001b[1;32m    431\u001b[0m         \u001b[39m#\"Min_Uncertainty\": lambda model: min(agent.is_uncertain() for agent in model.schedule.agents),\u001b[39;00m\n\u001b[1;32m    432\u001b[0m         \u001b[39m#\"Max_Uncertainty\": lambda model: max(agent.is_uncertain() for agent in model.schedule.agents),\u001b[39;00m\n\u001b[1;32m    433\u001b[0m         \u001b[39m\"\u001b[39m\u001b[39mTrue_Price_Adoption_Rate\u001b[39m\u001b[39m\"\u001b[39m: \u001b[39mlambda\u001b[39;00m model: model\u001b[39m.\u001b[39mcalculate_true_price_adoption_rate(),\n\u001b[1;32m    434\u001b[0m         \u001b[39m\"\u001b[39m\u001b[39mAverage_Satisfaction\u001b[39m\u001b[39m\"\u001b[39m: \u001b[39mlambda\u001b[39;00m model: np\u001b[39m.\u001b[39mmean([agent\u001b[39m.\u001b[39mis_satisfied() \u001b[39mfor\u001b[39;00m agent \u001b[39min\u001b[39;00m model\u001b[39m.\u001b[39mschedule\u001b[39m.\u001b[39magents]),\n\u001b[1;32m    435\u001b[0m         \u001b[39m\"\u001b[39m\u001b[39mAverage_Choice_Changes\u001b[39m\u001b[39m\"\u001b[39m: \u001b[39mlambda\u001b[39;00m model: np\u001b[39m.\u001b[39mmean([agent\u001b[39m.\u001b[39mchoice_changes \u001b[39mfor\u001b[39;00m agent \u001b[39min\u001b[39;00m model\u001b[39m.\u001b[39mschedule\u001b[39m.\u001b[39magents]),\n\u001b[1;32m    436\u001b[0m         \u001b[39m\"\u001b[39m\u001b[39mAverage_Decision_Mode_Changes\u001b[39m\u001b[39m\"\u001b[39m: \u001b[39mlambda\u001b[39;00m model: np\u001b[39m.\u001b[39mmean([agent\u001b[39m.\u001b[39mdecision_mode_changes \u001b[39mfor\u001b[39;00m agent \u001b[39min\u001b[39;00m model\u001b[39m.\u001b[39mschedule\u001b[39m.\u001b[39magents]),\n\u001b[1;32m    437\u001b[0m         \u001b[39m\"\u001b[39m\u001b[39mAverage Degree\u001b[39m\u001b[39m\"\u001b[39m: \u001b[39mlambda\u001b[39;00m model: np\u001b[39m.\u001b[39mmean([deg \u001b[39mfor\u001b[39;00m n, deg \u001b[39min\u001b[39;00m model\u001b[39m.\u001b[39mG\u001b[39m.\u001b[39mdegree()]),\n\u001b[1;32m    438\u001b[0m         \u001b[39m\"\u001b[39m\u001b[39mVariance of Degree\u001b[39m\u001b[39m\"\u001b[39m: \u001b[39mlambda\u001b[39;00m model: np\u001b[39m.\u001b[39mvar([deg \u001b[39mfor\u001b[39;00m n, deg \u001b[39min\u001b[39;00m model\u001b[39m.\u001b[39mG\u001b[39m.\u001b[39mdegree()]),\n\u001b[1;32m    439\u001b[0m         \u001b[39m\"\u001b[39m\u001b[39mAverage Clustering\u001b[39m\u001b[39m\"\u001b[39m: \u001b[39mlambda\u001b[39;00m model: nx\u001b[39m.\u001b[39maverage_clustering(model\u001b[39m.\u001b[39mG),\n\u001b[0;32m--> 440\u001b[0m         \u001b[39m\"\u001b[39m\u001b[39mAverage Path Length\u001b[39m\u001b[39m\"\u001b[39m: \u001b[39mlambda\u001b[39;00m model: nx\u001b[39m.\u001b[39;49maverage_shortest_path_length(model\u001b[39m.\u001b[39;49mG) \u001b[39mif\u001b[39;00m nx\u001b[39m.\u001b[39mis_connected(model\u001b[39m.\u001b[39mG) \u001b[39melse\u001b[39;00m \u001b[39mNone\u001b[39;00m,\n\u001b[1;32m    441\u001b[0m         \u001b[39m\"\u001b[39m\u001b[39mAvg_F_Satisfaction\u001b[39m\u001b[39m\"\u001b[39m: \u001b[39mlambda\u001b[39;00m model: np\u001b[39m.\u001b[39mmean([agent\u001b[39m.\u001b[39mF_satisfaction \u001b[39mfor\u001b[39;00m agent \u001b[39min\u001b[39;00m model\u001b[39m.\u001b[39mschedule\u001b[39m.\u001b[39magents]),\n\u001b[1;32m    442\u001b[0m         \u001b[39m\"\u001b[39m\u001b[39mAvg_S_Satisfaction\u001b[39m\u001b[39m\"\u001b[39m: \u001b[39mlambda\u001b[39;00m model: np\u001b[39m.\u001b[39mmean([agent\u001b[39m.\u001b[39mS_satisfaction \u001b[39mfor\u001b[39;00m agent \u001b[39min\u001b[39;00m model\u001b[39m.\u001b[39mschedule\u001b[39m.\u001b[39magents]),\n\u001b[1;32m    443\u001b[0m         \u001b[39m\"\u001b[39m\u001b[39mAvg_P_Satisfaction\u001b[39m\u001b[39m\"\u001b[39m: \u001b[39mlambda\u001b[39;00m model: np\u001b[39m.\u001b[39mmean([agent\u001b[39m.\u001b[39mP_satisfaction \u001b[39mfor\u001b[39;00m agent \u001b[39min\u001b[39;00m model\u001b[39m.\u001b[39mschedule\u001b[39m.\u001b[39magents]),\n\u001b[1;32m    444\u001b[0m         \u001b[39m\"\u001b[39m\u001b[39mAvg_F_Uncertainty\u001b[39m\u001b[39m\"\u001b[39m: \u001b[39mlambda\u001b[39;00m model: np\u001b[39m.\u001b[39mmean([agent\u001b[39m.\u001b[39mF_uncertainty \u001b[39mfor\u001b[39;00m agent \u001b[39min\u001b[39;00m model\u001b[39m.\u001b[39mschedule\u001b[39m.\u001b[39magents]),\n\u001b[1;32m    445\u001b[0m         \u001b[39m\"\u001b[39m\u001b[39mAvg_S_Uncertainty\u001b[39m\u001b[39m\"\u001b[39m: \u001b[39mlambda\u001b[39;00m model: np\u001b[39m.\u001b[39mmean([agent\u001b[39m.\u001b[39mS_uncertainty \u001b[39mfor\u001b[39;00m agent \u001b[39min\u001b[39;00m model\u001b[39m.\u001b[39mschedule\u001b[39m.\u001b[39magents]),\n\u001b[1;32m    446\u001b[0m         \u001b[39m\"\u001b[39m\u001b[39mAvg_P_Uncertainty\u001b[39m\u001b[39m\"\u001b[39m: \u001b[39mlambda\u001b[39;00m model: np\u001b[39m.\u001b[39mmean([agent\u001b[39m.\u001b[39mP_uncertainty \u001b[39mfor\u001b[39;00m agent \u001b[39min\u001b[39;00m model\u001b[39m.\u001b[39mschedule\u001b[39m.\u001b[39magents])\n\u001b[1;32m    447\u001b[0m     },\n\u001b[1;32m    448\u001b[0m     agent_reporters\u001b[39m=\u001b[39m{\n\u001b[1;32m    449\u001b[0m         \u001b[39m\"\u001b[39m\u001b[39mTrue_Price_Usage\u001b[39m\u001b[39m\"\u001b[39m: \u001b[39m\"\u001b[39m\u001b[39mis_using_true_price\u001b[39m\u001b[39m\"\u001b[39m,\n\u001b[1;32m    450\u001b[0m         \u001b[39m\"\u001b[39m\u001b[39mRepeat\u001b[39m\u001b[39m\"\u001b[39m: \u001b[39mlambda\u001b[39;00m a: a\u001b[39m.\u001b[39mdecision_mode \u001b[39m==\u001b[39m \u001b[39m\"\u001b[39m\u001b[39mrepeat\u001b[39m\u001b[39m\"\u001b[39m,\n\u001b[1;32m    451\u001b[0m         \u001b[39m\"\u001b[39m\u001b[39mImitate\u001b[39m\u001b[39m\"\u001b[39m: \u001b[39mlambda\u001b[39;00m a: a\u001b[39m.\u001b[39mdecision_mode \u001b[39m==\u001b[39m \u001b[39m\"\u001b[39m\u001b[39mimitate\u001b[39m\u001b[39m\"\u001b[39m,\n\u001b[1;32m    452\u001b[0m         \u001b[39m\"\u001b[39m\u001b[39mDeliberate\u001b[39m\u001b[39m\"\u001b[39m: \u001b[39mlambda\u001b[39;00m a: a\u001b[39m.\u001b[39mdecision_mode \u001b[39m==\u001b[39m \u001b[39m\"\u001b[39m\u001b[39mdeliberate\u001b[39m\u001b[39m\"\u001b[39m,\n\u001b[1;32m    453\u001b[0m         \u001b[39m\"\u001b[39m\u001b[39mSocial_Compare\u001b[39m\u001b[39m\"\u001b[39m: \u001b[39mlambda\u001b[39;00m a: a\u001b[39m.\u001b[39mdecision_mode \u001b[39m==\u001b[39m \u001b[39m\"\u001b[39m\u001b[39msocial_compare\u001b[39m\u001b[39m\"\u001b[39m,\n\u001b[1;32m    454\u001b[0m         \u001b[39m\"\u001b[39m\u001b[39mSatisfaction\u001b[39m\u001b[39m\"\u001b[39m: \u001b[39mlambda\u001b[39;00m a: a\u001b[39m.\u001b[39mis_satisfied(),\n\u001b[1;32m    455\u001b[0m         \u001b[39m\"\u001b[39m\u001b[39mUncertainty\u001b[39m\u001b[39m\"\u001b[39m: \u001b[39mlambda\u001b[39;00m a: a\u001b[39m.\u001b[39mis_uncertain(),\n\u001b[1;32m    456\u001b[0m         \u001b[39m\"\u001b[39m\u001b[39mChoice_Changes\u001b[39m\u001b[39m\"\u001b[39m: \u001b[39m\"\u001b[39m\u001b[39mchoice_changes\u001b[39m\u001b[39m\"\u001b[39m,\n\u001b[1;32m    457\u001b[0m         \u001b[39m\"\u001b[39m\u001b[39mDecision_Mode_Changes\u001b[39m\u001b[39m\"\u001b[39m: \u001b[39m\"\u001b[39m\u001b[39mdecision_mode_changes\u001b[39m\u001b[39m\"\u001b[39m\n\u001b[1;32m    458\u001b[0m     }\n\u001b[1;32m    459\u001b[0m )\n",
      "File \u001b[0;32m~/opt/anaconda3/envs/thesisenv/lib/python3.9/site-packages/networkx/algorithms/shortest_paths/generic.py:417\u001b[0m, in \u001b[0;36maverage_shortest_path_length\u001b[0;34m(G, weight, method)\u001b[0m\n\u001b[1;32m    413\u001b[0m         \u001b[39mreturn\u001b[39;00m nx\u001b[39m.\u001b[39msingle_source_bellman_ford_path_length(G, v, weight\u001b[39m=\u001b[39mweight)\n\u001b[1;32m    415\u001b[0m \u001b[39mif\u001b[39;00m method \u001b[39min\u001b[39;00m single_source_methods:\n\u001b[1;32m    416\u001b[0m     \u001b[39m# Sum the distances for each (ordered) pair of source and target node.\u001b[39;00m\n\u001b[0;32m--> 417\u001b[0m     s \u001b[39m=\u001b[39m \u001b[39msum\u001b[39;49m(l \u001b[39mfor\u001b[39;49;00m u \u001b[39min\u001b[39;49;00m G \u001b[39mfor\u001b[39;49;00m l \u001b[39min\u001b[39;49;00m path_length(u)\u001b[39m.\u001b[39;49mvalues())\n\u001b[1;32m    418\u001b[0m \u001b[39melse\u001b[39;00m:\n\u001b[1;32m    419\u001b[0m     \u001b[39mif\u001b[39;00m method \u001b[39m==\u001b[39m \u001b[39m\"\u001b[39m\u001b[39mfloyd-warshall\u001b[39m\u001b[39m\"\u001b[39m:\n",
      "File \u001b[0;32m~/opt/anaconda3/envs/thesisenv/lib/python3.9/site-packages/networkx/algorithms/shortest_paths/generic.py:417\u001b[0m, in \u001b[0;36m<genexpr>\u001b[0;34m(.0)\u001b[0m\n\u001b[1;32m    413\u001b[0m         \u001b[39mreturn\u001b[39;00m nx\u001b[39m.\u001b[39msingle_source_bellman_ford_path_length(G, v, weight\u001b[39m=\u001b[39mweight)\n\u001b[1;32m    415\u001b[0m \u001b[39mif\u001b[39;00m method \u001b[39min\u001b[39;00m single_source_methods:\n\u001b[1;32m    416\u001b[0m     \u001b[39m# Sum the distances for each (ordered) pair of source and target node.\u001b[39;00m\n\u001b[0;32m--> 417\u001b[0m     s \u001b[39m=\u001b[39m \u001b[39msum\u001b[39m(l \u001b[39mfor\u001b[39;00m u \u001b[39min\u001b[39;00m G \u001b[39mfor\u001b[39;00m l \u001b[39min\u001b[39;00m path_length(u)\u001b[39m.\u001b[39mvalues())\n\u001b[1;32m    418\u001b[0m \u001b[39melse\u001b[39;00m:\n\u001b[1;32m    419\u001b[0m     \u001b[39mif\u001b[39;00m method \u001b[39m==\u001b[39m \u001b[39m\"\u001b[39m\u001b[39mfloyd-warshall\u001b[39m\u001b[39m\"\u001b[39m:\n",
      "File \u001b[0;32m~/opt/anaconda3/envs/thesisenv/lib/python3.9/site-packages/networkx/algorithms/shortest_paths/generic.py:409\u001b[0m, in \u001b[0;36maverage_shortest_path_length.<locals>.path_length\u001b[0;34m(v)\u001b[0m\n\u001b[1;32m    407\u001b[0m \u001b[39mdef\u001b[39;00m \u001b[39mpath_length\u001b[39m(v):\n\u001b[1;32m    408\u001b[0m     \u001b[39mif\u001b[39;00m method \u001b[39m==\u001b[39m \u001b[39m\"\u001b[39m\u001b[39munweighted\u001b[39m\u001b[39m\"\u001b[39m:\n\u001b[0;32m--> 409\u001b[0m         \u001b[39mreturn\u001b[39;00m nx\u001b[39m.\u001b[39;49msingle_source_shortest_path_length(G, v)\n\u001b[1;32m    410\u001b[0m     \u001b[39melif\u001b[39;00m method \u001b[39m==\u001b[39m \u001b[39m\"\u001b[39m\u001b[39mdijkstra\u001b[39m\u001b[39m\"\u001b[39m:\n\u001b[1;32m    411\u001b[0m         \u001b[39mreturn\u001b[39;00m nx\u001b[39m.\u001b[39msingle_source_dijkstra_path_length(G, v, weight\u001b[39m=\u001b[39mweight)\n",
      "File \u001b[0;32m~/opt/anaconda3/envs/thesisenv/lib/python3.9/site-packages/networkx/algorithms/shortest_paths/unweighted.py:59\u001b[0m, in \u001b[0;36msingle_source_shortest_path_length\u001b[0;34m(G, source, cutoff)\u001b[0m\n\u001b[1;32m     57\u001b[0m     cutoff \u001b[39m=\u001b[39m \u001b[39mfloat\u001b[39m(\u001b[39m\"\u001b[39m\u001b[39minf\u001b[39m\u001b[39m\"\u001b[39m)\n\u001b[1;32m     58\u001b[0m nextlevel \u001b[39m=\u001b[39m {source: \u001b[39m1\u001b[39m}\n\u001b[0;32m---> 59\u001b[0m \u001b[39mreturn\u001b[39;00m \u001b[39mdict\u001b[39;49m(_single_shortest_path_length(G\u001b[39m.\u001b[39;49madj, nextlevel, cutoff))\n",
      "File \u001b[0;32m~/opt/anaconda3/envs/thesisenv/lib/python3.9/site-packages/networkx/algorithms/shortest_paths/unweighted.py:85\u001b[0m, in \u001b[0;36m_single_shortest_path_length\u001b[0;34m(adj, firstlevel, cutoff)\u001b[0m\n\u001b[1;32m     83\u001b[0m \u001b[39mfor\u001b[39;00m v \u001b[39min\u001b[39;00m thislevel:\n\u001b[1;32m     84\u001b[0m     \u001b[39mif\u001b[39;00m v \u001b[39mnot\u001b[39;00m \u001b[39min\u001b[39;00m seen:\n\u001b[0;32m---> 85\u001b[0m         seen[v] \u001b[39m=\u001b[39m level  \u001b[39m# set the level of vertex v\u001b[39;00m\n\u001b[1;32m     86\u001b[0m         found\u001b[39m.\u001b[39mappend(v)\n\u001b[1;32m     87\u001b[0m         \u001b[39myield\u001b[39;00m (v, level)\n",
      "\u001b[0;31mKeyboardInterrupt\u001b[0m: "
     ]
    }
   ],
   "source": [
    "import numpy as np\n",
    "import pandas as pd\n",
    "import matplotlib.pyplot as plt\n",
    "from sklearn.svm import SVC\n",
    "from sklearn.preprocessing import StandardScaler\n",
    "from sklearn.pipeline import make_pipeline\n",
    "from tqdm import tqdm\n",
    "from experiments_model_copy import ConsumatModel\n",
    "\n",
    "base_config = {\n",
    "    'TP_percentage': 0.5,\n",
    "    'tp_introduction_rate': 0.1,\n",
    "    'satisfaction_threshold': 0.5,\n",
    "    'uncertainty_threshold': 0.5,\n",
    "    'product_price_range': (5, 10),\n",
    "    'min_increase_percentage': 4,\n",
    "    'max_increase_percentage': 10,\n",
    "    'num_products': 20,\n",
    "    'inflation_rate': 3,\n",
    "    'epsilon': 0.5,\n",
    "    'comparison_attributes': ['budget', 'preference_sustainability', 'preference_conformity'],\n",
    "    'seed': 42,  \n",
    "\n",
    "# Network configurations\n",
    "network_configs = {\n",
    "    'Watts-Strogatz': {\n",
    "        **base_config,\n",
    "        'network_type': 'watts_strogatz',\n",
    "        'network_params': {\n",
    "            'n': 1600,\n",
    "            'k': 8,\n",
    "            'p': 0.3\n",
    "        }\n",
    "    },\n",
    "    'Barabasi-Albert': {\n",
    "        **base_config,\n",
    "        'network_type': 'barabasi_albert',\n",
    "        'network_params': {\n",
    "            'n': 1600,\n",
    "            'm': 8\n",
    "        }\n",
    "    },\n",
    "    'Random Regular': {\n",
    "        **base_config,\n",
    "        'network_type': 'random_regular',\n",
    "        'network_params': {\n",
    "            'n': 1600,\n",
    "            'd': 8\n",
    "        }\n",
    "    },\n",
    "    'Holme-Kim': {\n",
    "        **base_config,\n",
    "        'network_type': 'holme_kim',\n",
    "        'network_params': {\n",
    "            'n': 1600,\n",
    "            'm': 8,\n",
    "            'p': 0.3\n",
    "        }\n",
    "    }\n",
    "}\n",
    "\n",
    "# Function to run a single simulation and get the adoption rate\n",
    "def run_simulation(model, num_steps):\n",
    "    adoption_rates = []\n",
    "    for _ in tqdm(range(num_steps), desc='Simulation Progress'):\n",
    "        model.step()\n",
    "        current_adoption_rate = model.calculate_true_price_adoption_rate()\n",
    "        adoption_rates.append(current_adoption_rate)\n",
    "    model_data = model.datacollector.get_model_vars_dataframe()\n",
    "    agent_data = model.datacollector.get_agent_vars_dataframe()\n",
    "    model_data['Adoption Rates'] = adoption_rates\n",
    "    return model_data, agent_data\n",
    "\n",
    "# Function to generate data for phase diagrams\n",
    "def generate_phase_diagram_data(config, param1_range, param2_range, num_steps):\n",
    "    data = []\n",
    "    labels = []\n",
    "    for param1 in param1_range:\n",
    "        for param2 in param2_range:\n",
    "            config['TP_percentage'] = param1\n",
    "            config['tp_introduction_rate'] = param2\n",
    "            model = ConsumatModel(config)\n",
    "            adoption_rate = run_simulation(model, num_steps)[0]['Adoption Rates'].iloc[-1]  # Get final adoption rate\n",
    "            data.append([param1, param2])\n",
    "            labels.append(adoption_rate > 50)  # Threshold for classification\n",
    "    return np.array(data), np.array(labels)\n",
    "\n",
    "# Generate and plot phase diagrams\n",
    "def plot_phase_diagram(config, param1_range, param2_range, num_steps):\n",
    "    data, labels = generate_phase_diagram_data(config, param1_range, param2_range, num_steps)\n",
    "    svm = make_pipeline(StandardScaler(), SVC(kernel='linear'))\n",
    "    svm.fit(data, labels)\n",
    "    xx, yy = np.meshgrid(np.linspace(0, 1, 100), np.linspace(0, 1, 100))\n",
    "    Z = svm.decision_function(np.c_[xx.ravel(), yy.ravel()])\n",
    "    Z = Z.reshape(xx.shape)\n",
    "    plt.contourf(xx, yy, Z, levels=[Z.min(), 0, Z.max()], cmap='RdBu')\n",
    "    plt.xlabel('TP_percentage')\n",
    "    plt.ylabel('tp_introduction_rate')\n",
    "    plt.title('Phase Diagram')\n",
    "    plt.colorbar()\n",
    "    plt.show()\n",
    "\n",
    "param1_range = np.linspace(0, 1, 10)  # TP_percentage\n",
    "param2_range = np.linspace(0, 1, 10)  # tp_introduction_rate\n",
    "num_steps = 10\n",
    "\n",
    "for config_name, config in network_configs.items():\n",
    "    print(f\"Generating phase diagram for {config_name} network...\")\n",
    "    plot_phase_diagram(config, param1_range, param2_range, num_steps)\n"
   ]
  },
  {
   "cell_type": "code",
   "execution_count": null,
   "metadata": {},
   "outputs": [],
   "source": []
  }
 ],
 "metadata": {
  "kernelspec": {
   "display_name": "Python 3.9.12 ('thesisenv')",
   "language": "python",
   "name": "python3"
  },
  "language_info": {
   "codemirror_mode": {
    "name": "ipython",
    "version": 3
   },
   "file_extension": ".py",
   "mimetype": "text/x-python",
   "name": "python",
   "nbconvert_exporter": "python",
   "pygments_lexer": "ipython3",
   "version": "3.9.12"
  },
  "orig_nbformat": 4,
  "vscode": {
   "interpreter": {
    "hash": "fdea70aefca0dd2587ab602ad055a1bebcc50375457e053f6fc27c4556864e28"
   }
  }
 },
 "nbformat": 4,
 "nbformat_minor": 2
}
